{
 "cells": [
  {
   "cell_type": "markdown",
   "metadata": {},
   "source": [
    "#  Скрапінг-технології"
   ]
  },
  {
   "cell_type": "markdown",
   "metadata": {},
   "source": [
    "## ТЕОРЕТИЧНА ЧАСТИНА"
   ]
  },
  {
   "cell_type": "markdown",
   "metadata": {},
   "source": [
    "Вміст веб-сайтів(документів) - основне джерело видобутку даних.\n",
    "\n",
    "Вилучення корисних даних з веб-сторінки називається [веб-скрапінгом](https://uk.wikipedia.org/wiki/Web_scraping)\n",
    "\n",
    "_Технологія_ що покладена в основу веб-скрапінга - __HTML-парсінг__\n",
    "\n",
    "Основні парсери HTML:\n",
    "\n",
    "- [Beautiful Soup](https://en.wikipedia.org/wiki/Beautiful_Soup_(HTML_parser)) - загальноцілова бібліотека Python для парсінгу _статичних_ сайтів.\n",
    "- [Selenium](https://ru.wikipedia.org/wiki/Selenium) - бібліотека з можливістю парсінга _динамічних_ веб-сайтів.\n",
    "- [Scrapy](https://ru.wikipedia.org/wiki/Scrapy) - облегшена бібліотека для парсінгу нескладних статичних сайтів."
   ]
  },
  {
   "cell_type": "markdown",
   "metadata": {},
   "source": [
    "### Технологія веб-скрапінгу включає наступні етапи:\n",
    "\n",
    "1. Визначення об'єктів, які підлягають видобутку\n",
    "2. Вилучення html-сторінки з інтернет-ресурса\n",
    "3. Визначення внутрішньої структури html-документа та стратегії вилученя даних\n",
    "4. Застосування веб-скрапера для вилучення та накопичення даних в необхідні структури"
   ]
  },
  {
   "cell_type": "markdown",
   "metadata": {},
   "source": [
    "## ІНДИВІДУАЛЬНЕ ЗАВДАННЯ"
   ]
  },
  {
   "cell_type": "markdown",
   "metadata": {},
   "source": [
    "З [головної сторінки](https://knute.edu.ua/blog/read/?pid=1038&uk) сайту КНТЕУ вилучити інформацію про факультети, кафедри та посилання на відповідні сторінки та представити результат в наступному вигляді:\n",
    "\n",
    "Назва факультету __<Закріпленій за вамі факультет>__\n",
    "\n",
    "№   | Назва кафедри | URL кафедри\n",
    ":--:|:--------|:--------\n",
    "1 |  <_назва 1> | <url 1>\n",
    "2 |  <_назва 1> | <url 1>\n",
    "3 |  <_назва 1> | <url 1>\n",
    "...| ... |...\n"
   ]
  },
  {
   "cell_type": "code",
   "execution_count": 1,
   "metadata": {
    "run_control": {
     "marked": true
    }
   },
   "outputs": [],
   "source": [
    "# імпортувати бібліотеку Requests\n",
    "import requests as req\n",
    "import pandas as pd\n",
    "from urllib.parse import urljoin\n",
    "\n",
    "pd.set_option('display.max_colwidth', None)"
   ]
  },
  {
   "cell_type": "code",
   "execution_count": 2,
   "metadata": {
    "run_control": {
     "marked": true
    }
   },
   "outputs": [],
   "source": [
    "# зчитати головну сторінку та виправити кодування (якщо необхідно)\n",
    "base = 'https://knute.edu.ua/' \n",
    "url = 'https://knute.edu.ua/blog/read/?pid=1038&uk'\n",
    "\n",
    "page = req.get(url)\n",
    "page.encoding = 'UTF-8'\n",
    "\n",
    "dep = []"
   ]
  },
  {
   "cell_type": "markdown",
   "metadata": {},
   "source": [
    "#### за допомогою [Chrome DevTools](https://htmlacademy.ru/blog/boost/tools/chrome-devtools-1) проаналізувати структуру сторінки, визначити об'єкти що потребують вилучення та розробити стратегію скрапінга"
   ]
  },
  {
   "cell_type": "code",
   "execution_count": 3,
   "metadata": {
    "run_control": {
     "marked": true
    }
   },
   "outputs": [],
   "source": [
    "# імпортувати html-парсер бібліотеки  BeautifulSoup\n",
    "from bs4 import BeautifulSoup"
   ]
  },
  {
   "cell_type": "code",
   "execution_count": 4,
   "metadata": {
    "run_control": {
     "marked": true
    }
   },
   "outputs": [],
   "source": [
    "# розпарсити сторінку `main_page`\n",
    "soup = BeautifulSoup(page.text, 'html.parser')\n",
    "\n",
    "singe_child_element = soup.select_one('.att-menu-item')\n",
    "\n",
    "single_parent_element = singe_child_element.find_parent('ul')\n",
    "\n",
    "structures_list = single_parent_element.findChildren('a')"
   ]
  },
  {
   "cell_type": "markdown",
   "metadata": {},
   "source": [
    "#### застосувати вибрану стратегію для вилученя назв кафедр та їх url"
   ]
  },
  {
   "cell_type": "code",
   "execution_count": 5,
   "metadata": {},
   "outputs": [
    {
     "name": "stdout",
     "output_type": "stream",
     "text": [
      "\n",
      "Факультет міжнародної торгівлі та права - https://knute.edu.ua/blog/read?n=fmtp&uk\n",
      "\n",
      "                                                    Назва кафедри  \\\n",
      "1                                      Кафедра світової економіки   \n",
      "2                                Кафедра міжнародного менеджменту   \n",
      "3          Кафедра міжнародного, цивільного та комерційного права   \n",
      "4  Кафедра адміністративного, фінансового та інформаційного права   \n",
      "5                  Кафедра правового забезпечення безпеки бізнесу   \n",
      "6                               Кафедра сучасних європейських мов   \n",
      "7                    Кафедра філософії, соціології та політології   \n",
      "\n",
      "                                                                                  URL кафедри  \n",
      "1                                   https://knute.edu.ua/blog/read?n=svitovoyi%20ekonomiki&uk  \n",
      "2             https://knute.edu.ua/blog/read?n=Department%20of%20International%20Economics&uk  \n",
      "3                                                https://knute.edu.ua/blog/read?n=ipcc-law&uk  \n",
      "4                      https://knute.edu.ua/blog/read?n=Department%20of%20Commercial%20Law&uk  \n",
      "5                                   https://knute.edu.ua/blog/read?n=Department%20of%20Law&uk  \n",
      "6         https://knute.edu.ua/blog/read?n=Department%20of%20Modern%20European%20Languages&uk  \n",
      "7  https://knute.edu.ua/blog/read?n=Department%20filosofsmbkikh%20ta%20socialmbnikh%20nauk&uk  \n",
      "\n",
      "Факультет торгівлі та маркетингу - https://knute.edu.ua/blog/read?n=ftm&uk\n",
      "\n",
      "                                              Назва кафедри  \\\n",
      "1         Кафедра торговельного підприємництва та логістики   \n",
      "2                                        Кафедра маркетингу   \n",
      "3  Кафедра товарознавства, управління безпечністю та якістю   \n",
      "4                   Кафедра товарознавства та митної справи   \n",
      "5                           Кафедра журналістики та реклами   \n",
      "6                  Кафедра іноземної філології та перекладу   \n",
      "\n",
      "                                                                                       URL кафедри  \n",
      "1                         https://knute.edu.ua/blog/read?n=Department%20of%20Enterprise%20Trade&uk  \n",
      "2                                  https://knute.edu.ua/blog/read?n=Department%20of%20Marketing&uk  \n",
      "3  https://knute.edu.ua/blog/read?n=Department%20of%20Commodity%20and%20examination%20of%20food&uk  \n",
      "4    https://knute.edu.ua/blog/read?n=Department%20of%20merchandise%20and%20expertise%20nonfood&uk  \n",
      "5             https://knute.edu.ua/blog/read?n=Department%20of%20Journalism%20and%20Advertising&uk  \n",
      "6                     https://knute.edu.ua/blog/read?n=inozemnoyi%20filologiyi%20ta%20perekladu&uk  \n",
      "\n",
      "Факультет економіки, менеджменту та психології - https://knute.edu.ua/blog/read?n=femp&uk\n",
      "\n",
      "                                         Назва кафедри  \\\n",
      "1  Кафедра економічної теорії та конкурентної політики   \n",
      "2           Кафедра економіки та фінансів підприємства   \n",
      "3     Кафедра публічного управління та адміністрування   \n",
      "4                                  Кафедра менеджменту   \n",
      "5                                   Кафедра психології   \n",
      "\n",
      "                                                                                            URL кафедри  \n",
      "1  https://knute.edu.ua/blog/read?n=Department%20of%20Economic%20Theory%20and%20Competition%20Policy&uk  \n",
      "2             https://knute.edu.ua/blog/read?n=Department%20of%20Economics%20and%20Finance%20Company&uk  \n",
      "3      https://knute.edu.ua/blog/read?n=Department%20of%20Public%20Management%20and%20Administration&uk  \n",
      "4                                      https://knute.edu.ua/blog/read?n=Department%20of%20Management&uk  \n",
      "5                                      https://knute.edu.ua/blog/read?n=Department%20of%20Psychology&uk  \n",
      "\n",
      "Факультет інформаційних технологій - https://knute.edu.ua/blog/read?n=fit&uk\n",
      "\n",
      "                                                Назва кафедри  \\\n",
      "1  Кафедра інженерії програмного забезпечення та кібербезпеки   \n",
      "2            Кафедра цифрової економіки та системного аналізу   \n",
      "3           Кафедра комп'ютерних наук та інформаційних систем   \n",
      "4                      Кафедра вищої та прикладної математики   \n",
      "\n",
      "                                                                                                  URL кафедри  \n",
      "1       https://knute.edu.ua/blog/read?n=Department%20Software%20Engineering%20and%20Information%20Systems&uk  \n",
      "2  https://knute.edu.ua/blog/read?n=Department%20of%20Economic%20Cybernetics%20and%20Information%20Systems&uk  \n",
      "3              https://knute.edu.ua/blog/read?n=informaciynikh%20tekhnologiy%20u%20mizhnarodniy%20torgivli&uk  \n",
      "4                  https://knute.edu.ua/blog/read?n=Department%20of%20Higher%20and%20Applied%20Mathematics&uk  \n",
      "\n",
      "Факультет ресторанно-готельного та туристичного бізнесу  - https://knute.edu.ua/blog/read?n=frgtb&uk\n",
      "\n",
      "                                                Назва кафедри  \\\n",
      "1  Кафедра технології і організації ресторанного господарства   \n",
      "2                       Кафедра готельно-ресторанного бізнесу   \n",
      "3                                Кафедра туризму та рекреації   \n",
      "4                              Кафедра дизайну та інжинірингу   \n",
      "5                         Кафедра фізичної культури та спорту   \n",
      "\n",
      "                                                                                    URL кафедри  \n",
      "1          https://knute.edu.ua/blog/read?n=Department%20of%20Technology%20and%20restaurants&uk  \n",
      "2  https://knute.edu.ua/blog/read?n=Department%20of%20Hotel%20and%20catering%20and%20tourism&uk  \n",
      "3              https://knute.edu.ua/blog/read?n=Department%20of%20tourism%20and%20recreation&uk  \n",
      "4               https://knute.edu.ua/blog/read?n=Department%20of%20engineering%20disciplines&uk  \n",
      "5                    https://knute.edu.ua/blog/read?n=Department%20of%20Physical%20Education&uk  \n",
      "\n",
      "Факультет фінансів та обліку - https://knute.edu.ua/blog/read?n=ffo&uk\n",
      "\n",
      "                           Назва кафедри  \\\n",
      "1                       Кафедра фінансів   \n",
      "2             Кафедра банківської справи   \n",
      "3        Кафедра обліку та оподаткування   \n",
      "4  Кафедра фінансового аналізу та аудиту   \n",
      "5      Кафедра статистики та економетрії   \n",
      "\n",
      "                                                                                  URL кафедри  \n",
      "1                               https://knute.edu.ua/blog/read?n=Department%20of%20Finance&uk  \n",
      "2                               https://knute.edu.ua/blog/read?n=Department%20of%20Banking&uk  \n",
      "3                            https://knute.edu.ua/blog/read?n=Department%20of%20Accounting&uk  \n",
      "4  https://knute.edu.ua/blog/read?n=Department%20of%20Financial%20Analysis%20and%20Control&uk  \n",
      "5       https://knute.edu.ua/blog/read?n=Department%20of%20Statistics%20and%20econometrics&uk  \n"
     ]
    }
   ],
   "source": [
    "for element in structures_list:\n",
    "    child = element.findChild('span')\n",
    "\n",
    "    if(child is None):  \n",
    "        department_name = element.string\n",
    "        department_link = element.get('href').replace(' ', '%20')  \n",
    "\n",
    "        dep.append({\n",
    "        'Назва кафедри' : department_name,\n",
    "        'URL кафедри' : urljoin(base, department_link)\n",
    "        })   \n",
    "\n",
    "    else:\n",
    "        if dep:\n",
    "            print('\\n' + table_name + '\\n')\n",
    "\n",
    "            df = pd.DataFrame(dep)   \n",
    "            df.index += 1  \n",
    "            print(df)             \n",
    "\n",
    "            dep.clear()          \n",
    "\n",
    "        faculty_name = child.string\n",
    "        faculty_link = element.get('href').replace(' ', '%20')\n",
    "\n",
    "        table_name = '{0} - {1}'.format(faculty_name, urljoin(base,faculty_link)) \n",
    "        \n",
    "print('\\n' + table_name + '\\n')\n",
    "\n",
    "df = pd.DataFrame(dep)      \n",
    "df.index += 1\n",
    "\n",
    "print(df)    "
   ]
  },
  {
   "cell_type": "markdown",
   "metadata": {},
   "source": [
    "#### 2-й спосіб (Кафедри та факультети окремо, не пов'язані між собою)"
   ]
  },
  {
   "cell_type": "code",
   "execution_count": 6,
   "metadata": {},
   "outputs": [
    {
     "name": "stdout",
     "output_type": "stream",
     "text": [
      "                                           Назва факультету  \\\n",
      "1                   Факультет міжнародної торгівлі та права   \n",
      "2                          Факультет торгівлі та маркетингу   \n",
      "3            Факультет економіки, менеджменту та психології   \n",
      "4                        Факультет інформаційних технологій   \n",
      "5  Факультет ресторанно-готельного та туристичного бізнесу    \n",
      "6                              Факультет фінансів та обліку   \n",
      "\n",
      "                              URL факультету  \n",
      "1   https://knute.edu.ua/blog/read?n=fmtp&uk  \n",
      "2    https://knute.edu.ua/blog/read?n=ftm&uk  \n",
      "3   https://knute.edu.ua/blog/read?n=femp&uk  \n",
      "4    https://knute.edu.ua/blog/read?n=fit&uk  \n",
      "5  https://knute.edu.ua/blog/read?n=frgtb&uk  \n",
      "6    https://knute.edu.ua/blog/read?n=ffo&uk  \n",
      "\n",
      "                                                     Назва кафедри  \\\n",
      "1                                       Кафедра світової економіки   \n",
      "2                                 Кафедра міжнародного менеджменту   \n",
      "3           Кафедра міжнародного, цивільного та комерційного права   \n",
      "4   Кафедра адміністративного, фінансового та інформаційного права   \n",
      "5                   Кафедра правового забезпечення безпеки бізнесу   \n",
      "6                                Кафедра сучасних європейських мов   \n",
      "7                     Кафедра філософії, соціології та політології   \n",
      "8                Кафедра торговельного підприємництва та логістики   \n",
      "9                                               Кафедра маркетингу   \n",
      "10        Кафедра товарознавства, управління безпечністю та якістю   \n",
      "11                         Кафедра товарознавства та митної справи   \n",
      "12                                 Кафедра журналістики та реклами   \n",
      "13                        Кафедра іноземної філології та перекладу   \n",
      "14             Кафедра економічної теорії та конкурентної політики   \n",
      "15                      Кафедра економіки та фінансів підприємства   \n",
      "16                Кафедра публічного управління та адміністрування   \n",
      "17                                             Кафедра менеджменту   \n",
      "18                                              Кафедра психології   \n",
      "19      Кафедра інженерії програмного забезпечення та кібербезпеки   \n",
      "20                Кафедра цифрової економіки та системного аналізу   \n",
      "21               Кафедра комп'ютерних наук та інформаційних систем   \n",
      "22                          Кафедра вищої та прикладної математики   \n",
      "23      Кафедра технології і організації ресторанного господарства   \n",
      "24                           Кафедра готельно-ресторанного бізнесу   \n",
      "25                                    Кафедра туризму та рекреації   \n",
      "26                                  Кафедра дизайну та інжинірингу   \n",
      "27                             Кафедра фізичної культури та спорту   \n",
      "28                                                Кафедра фінансів   \n",
      "29                                      Кафедра банківської справи   \n",
      "30                                 Кафедра обліку та оподаткування   \n",
      "31                           Кафедра фінансового аналізу та аудиту   \n",
      "32                               Кафедра статистики та економетрії   \n",
      "\n",
      "                                                                                                   URL кафедри  \n",
      "1                                                    https://knute.edu.ua/blog/read?n=svitovoyi%20ekonomiki&uk  \n",
      "2                              https://knute.edu.ua/blog/read?n=Department%20of%20International%20Economics&uk  \n",
      "3                                                                 https://knute.edu.ua/blog/read?n=ipcc-law&uk  \n",
      "4                                       https://knute.edu.ua/blog/read?n=Department%20of%20Commercial%20Law&uk  \n",
      "5                                                    https://knute.edu.ua/blog/read?n=Department%20of%20Law&uk  \n",
      "6                          https://knute.edu.ua/blog/read?n=Department%20of%20Modern%20European%20Languages&uk  \n",
      "7                   https://knute.edu.ua/blog/read?n=Department%20filosofsmbkikh%20ta%20socialmbnikh%20nauk&uk  \n",
      "8                                     https://knute.edu.ua/blog/read?n=Department%20of%20Enterprise%20Trade&uk  \n",
      "9                                              https://knute.edu.ua/blog/read?n=Department%20of%20Marketing&uk  \n",
      "10             https://knute.edu.ua/blog/read?n=Department%20of%20Commodity%20and%20examination%20of%20food&uk  \n",
      "11               https://knute.edu.ua/blog/read?n=Department%20of%20merchandise%20and%20expertise%20nonfood&uk  \n",
      "12                        https://knute.edu.ua/blog/read?n=Department%20of%20Journalism%20and%20Advertising&uk  \n",
      "13                                https://knute.edu.ua/blog/read?n=inozemnoyi%20filologiyi%20ta%20perekladu&uk  \n",
      "14        https://knute.edu.ua/blog/read?n=Department%20of%20Economic%20Theory%20and%20Competition%20Policy&uk  \n",
      "15                   https://knute.edu.ua/blog/read?n=Department%20of%20Economics%20and%20Finance%20Company&uk  \n",
      "16            https://knute.edu.ua/blog/read?n=Department%20of%20Public%20Management%20and%20Administration&uk  \n",
      "17                                            https://knute.edu.ua/blog/read?n=Department%20of%20Management&uk  \n",
      "18                                            https://knute.edu.ua/blog/read?n=Department%20of%20Psychology&uk  \n",
      "19       https://knute.edu.ua/blog/read?n=Department%20Software%20Engineering%20and%20Information%20Systems&uk  \n",
      "20  https://knute.edu.ua/blog/read?n=Department%20of%20Economic%20Cybernetics%20and%20Information%20Systems&uk  \n",
      "21              https://knute.edu.ua/blog/read?n=informaciynikh%20tekhnologiy%20u%20mizhnarodniy%20torgivli&uk  \n",
      "22                  https://knute.edu.ua/blog/read?n=Department%20of%20Higher%20and%20Applied%20Mathematics&uk  \n",
      "23                        https://knute.edu.ua/blog/read?n=Department%20of%20Technology%20and%20restaurants&uk  \n",
      "24                https://knute.edu.ua/blog/read?n=Department%20of%20Hotel%20and%20catering%20and%20tourism&uk  \n",
      "25                            https://knute.edu.ua/blog/read?n=Department%20of%20tourism%20and%20recreation&uk  \n",
      "26                             https://knute.edu.ua/blog/read?n=Department%20of%20engineering%20disciplines&uk  \n",
      "27                                  https://knute.edu.ua/blog/read?n=Department%20of%20Physical%20Education&uk  \n",
      "28                                               https://knute.edu.ua/blog/read?n=Department%20of%20Finance&uk  \n",
      "29                                               https://knute.edu.ua/blog/read?n=Department%20of%20Banking&uk  \n",
      "30                                            https://knute.edu.ua/blog/read?n=Department%20of%20Accounting&uk  \n",
      "31                  https://knute.edu.ua/blog/read?n=Department%20of%20Financial%20Analysis%20and%20Control&uk  \n",
      "32                       https://knute.edu.ua/blog/read?n=Department%20of%20Statistics%20and%20econometrics&uk  \n"
     ]
    }
   ],
   "source": [
    "import requests as req\n",
    "import pandas as pd\n",
    "from urllib.parse import urljoin\n",
    "from bs4 import BeautifulSoup\n",
    "\n",
    "pd.set_option('display.max_colwidth', None)\n",
    "\n",
    "base = 'https://knute.edu.ua/' \n",
    "url = 'https://knute.edu.ua/blog/read/?pid=1038&uk'\n",
    "\n",
    "page = req.get(url)\n",
    "page.encoding = 'UTF-8'\n",
    "\n",
    "fac = []\n",
    "dep = []\n",
    "\n",
    "soup = BeautifulSoup(page.text, 'html.parser')\n",
    "\n",
    "departments = soup.find_all('a', class_='att-menu-item')\n",
    "faculties = soup.find_all('span', class_='prev-link')\n",
    "\n",
    "for department in departments:\n",
    "    dep_name = department.string\n",
    "    dep_link_part = department.get('href').replace(' ', '%20')     \n",
    "\n",
    "    dep.append({\n",
    "        'Назва кафедри' : dep_name,\n",
    "        'URL кафедри' : urljoin(base, dep_link_part)\n",
    "    })    \n",
    "\n",
    "for faculty in faculties:\n",
    "    fac_name = faculty.string\n",
    "\n",
    "    fac_parent = faculty.find_parent()\n",
    "    fac_link_part = fac_parent.get('href').replace(' ', '%20')      \n",
    "\n",
    "    fac.append({\n",
    "        'Назва факультету' : fac_name,\n",
    "        'URL факультету' : urljoin(base, fac_link_part)\n",
    "    })\n",
    "    \n",
    "fac_df = pd.DataFrame(fac)\n",
    "fac_df.index +=1\n",
    "\n",
    "dep_df = pd.DataFrame(dep)\n",
    "dep_df.index +=1\n",
    "\n",
    "print(fac_df)\n",
    "print()\n",
    "print(dep_df)"
   ]
  },
  {
   "cell_type": "code",
   "execution_count": null,
   "metadata": {},
   "outputs": [],
   "source": []
  }
 ],
 "metadata": {
  "kernelspec": {
   "display_name": "Python 3 (ipykernel)",
   "language": "python",
   "name": "python3"
  },
  "language_info": {
   "codemirror_mode": {
    "name": "ipython",
    "version": 3
   },
   "file_extension": ".py",
   "mimetype": "text/x-python",
   "name": "python",
   "nbconvert_exporter": "python",
   "pygments_lexer": "ipython3",
   "version": "3.9.13"
  },
  "varInspector": {
   "cols": {
    "lenName": 16,
    "lenType": 16,
    "lenVar": 40
   },
   "kernels_config": {
    "python": {
     "delete_cmd_postfix": "",
     "delete_cmd_prefix": "del ",
     "library": "var_list.py",
     "varRefreshCmd": "print(var_dic_list())"
    },
    "r": {
     "delete_cmd_postfix": ") ",
     "delete_cmd_prefix": "rm(",
     "library": "var_list.r",
     "varRefreshCmd": "cat(var_dic_list()) "
    }
   },
   "types_to_exclude": [
    "module",
    "function",
    "builtin_function_or_method",
    "instance",
    "_Feature"
   ],
   "window_display": false
  }
 },
 "nbformat": 4,
 "nbformat_minor": 2
}
