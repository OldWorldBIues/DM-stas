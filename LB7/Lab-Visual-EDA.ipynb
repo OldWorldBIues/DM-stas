{
 "cells": [
  {
   "cell_type": "markdown",
   "metadata": {},
   "source": [
    "# EDA-технології"
   ]
  },
  {
   "cell_type": "markdown",
   "metadata": {},
   "source": [
    "### ТЕОРЕТИЧНА ЧАСТИНА ТА ПРИКЛАДИ"
   ]
  },
  {
   "cell_type": "markdown",
   "metadata": {},
   "source": [
    "[EDA](https://ru.wikipedia.org/wiki/Разведочный_анализ_данных) - розвідувательний (дослідницький) аналіз даних - це технологія, яка межує з технологіями __Data Mining__ та __Data Science__.\n",
    "\n",
    "Інструментальні засоби EDA призначені для швидкого та наглядного відображення статистичних властивостей даних, що отримані на попередніх етапах Data Mining.\n",
    "\n",
    "Існують високорівневі засоби EDA:\n",
    "- [IDE RStudio](https://www.r-studio.com/ru/), \n",
    "- [RapidMiner](https://rapidminer.com/get-started/),\n",
    "- [MATLAB](https://www.mathworks.com/products/matlab.html) та ін.;\n",
    "\n",
    "Python-бібліотеки з відкритим кодом:\n",
    "- [SeaBorn](https://seaborn.pydata.org)\n",
    "- [Sweetviz](https://pypi.org/project/sweetviz/)\n",
    "- [Pandas-profiling](https://pandas-profiling.github.io/pandas-profiling/docs/master/rtd/) \n",
    "та деякі менш розповсюджені\n",
    "\n",
    "\n",
    "В основі більшості з вищезгаданих технологій лежіть бібліотека візуалізації даних [Matplotlib](https://ru.wikipedia.org/wiki/Matplotlib) яка тісно пов'язана з датасетами _Pandas_ та масивами _NumPy_\n",
    "\n",
    "[__Matplotlib__](https://matplotlib.org) - це низькорівнева графічна бібліотека для python з [відкритим кодом](https://github.com/matplotlib/matplotlib) написана на python, частково на _C_, _objective-C_ та _javascript_."
   ]
  },
  {
   "cell_type": "code",
   "execution_count": 1,
   "metadata": {},
   "outputs": [
    {
     "name": "stdout",
     "output_type": "stream",
     "text": [
      "matplotlib                        3.5.2\n",
      "matplotlib-inline                 0.1.6\n"
     ]
    },
    {
     "name": "stderr",
     "output_type": "stream",
     "text": [
      "WARNING: There was an error checking the latest version of pip.\n"
     ]
    }
   ],
   "source": [
    "# перевіримо наявність бібліотеки matplotlib\n",
    "!pip list | grep matplot"
   ]
  },
  {
   "cell_type": "code",
   "execution_count": 2,
   "metadata": {},
   "outputs": [
    {
     "name": "stdout",
     "output_type": "stream",
     "text": [
      "Requirement already satisfied: matplotlib in d:\\programms\\anaconda\\lib\\site-packages (3.5.2)\n",
      "Requirement already satisfied: numpy>=1.17 in d:\\programms\\anaconda\\lib\\site-packages (from matplotlib) (1.21.5)\n",
      "Requirement already satisfied: cycler>=0.10 in d:\\programms\\anaconda\\lib\\site-packages (from matplotlib) (0.11.0)\n",
      "Requirement already satisfied: packaging>=20.0 in d:\\programms\\anaconda\\lib\\site-packages (from matplotlib) (21.3)\n",
      "Requirement already satisfied: pyparsing>=2.2.1 in d:\\programms\\anaconda\\lib\\site-packages (from matplotlib) (3.0.9)\n",
      "Requirement already satisfied: fonttools>=4.22.0 in d:\\programms\\anaconda\\lib\\site-packages (from matplotlib) (4.25.0)\n",
      "Requirement already satisfied: python-dateutil>=2.7 in d:\\programms\\anaconda\\lib\\site-packages (from matplotlib) (2.8.2)\n",
      "Requirement already satisfied: pillow>=6.2.0 in d:\\programms\\anaconda\\lib\\site-packages (from matplotlib) (9.2.0)\n",
      "Requirement already satisfied: kiwisolver>=1.0.1 in d:\\programms\\anaconda\\lib\\site-packages (from matplotlib) (1.4.2)\n",
      "Requirement already satisfied: six>=1.5 in d:\\programms\\anaconda\\lib\\site-packages (from python-dateutil>=2.7->matplotlib) (1.16.0)\n"
     ]
    },
    {
     "name": "stderr",
     "output_type": "stream",
     "text": [
      "WARNING: There was an error checking the latest version of pip.\n"
     ]
    }
   ],
   "source": [
    "# якщо її немає на комп'ютері, то встановимо\n",
    "!pip install matplotlib"
   ]
  },
  {
   "cell_type": "code",
   "execution_count": 4,
   "metadata": {},
   "outputs": [],
   "source": [
    "# підключення бібліотеки \n",
    "import matplotlib"
   ]
  },
  {
   "cell_type": "code",
   "execution_count": 7,
   "metadata": {},
   "outputs": [
    {
     "name": "stdout",
     "output_type": "stream",
     "text": [
      "['ExecutableNotFoundError', 'MatplotlibDeprecationWarning', 'MutableMapping', 'Parameter', 'Path', 'RcParams', '_ExecInfo', '_VersionInfo', '__bibtex__', '__builtins__', '__cached__', '__doc__', '__file__', '__getattr__', '__loader__', '__name__', '__package__', '__path__', '__spec__', '_add_data_doc', '_all_deprecated', '_api', '_c_internal_utils', '_check_versions', '_cm', '_cm_listed', '_color_data', '_deprecated_ignore_map', '_deprecated_map', '_deprecated_remain_as_none', '_ensure_handler', '_enums', '_get_config_or_cache_dir', '_get_executable_info', '_get_ssl_context', '_get_version', '_get_xdg_cache_dir', '_get_xdg_config_dir', '_init_tests', '_label_from_arg', '_log', '_logged_cached', '_open_file_or_url', '_parse_to_version_info', '_path', '_preprocess_data', '_rc_params_in_file', '_replacer', '_version', 'atexit', 'bezier', 'cbook', 'checkdep_usetex', 'cm', 'colormaps', 'colors', 'contextlib', 'cycler', 'defaultParams', 'default_test_modules', 'docstring', 'fontconfig_pattern', 'ft2font', 'functools', 'get_backend', 'get_cachedir', 'get_configdir', 'get_data_path', 'importlib', 'inspect', 'interactive', 'is_interactive', 'is_url', 'locale', 'logging', 'matplotlib_fname', 'mplDeprecation', 'namedtuple', 'numpy', 'os', 'parse_version', 'path', 'pprint', 'rc', 'rcParams', 'rcParamsDefault', 'rcParamsOrig', 'rc_context', 'rc_file', 'rc_file_defaults', 'rc_params', 'rc_params_from_file', 'rcdefaults', 'rcsetup', 're', 'sanitize_sequence', 'scale', 'set_loglevel', 'shutil', 'subprocess', 'sys', 'tempfile', 'test', 'ticker', 'transforms', 'use', 'validate_backend', 'warnings']\n"
     ]
    }
   ],
   "source": [
    "print(dir(matplotlib))"
   ]
  },
  {
   "cell_type": "code",
   "execution_count": 8,
   "metadata": {},
   "outputs": [],
   "source": [
    "# основним об'єктом в `matplotlib` є `plot` що розташований в модулі `pyplot`\n",
    "from matplotlib import pyplot as plt"
   ]
  },
  {
   "cell_type": "code",
   "execution_count": 9,
   "metadata": {},
   "outputs": [
    {
     "name": "stdout",
     "output_type": "stream",
     "text": [
      "['Annotation', 'Arrow', 'Artist', 'AutoLocator', 'Axes', 'Button', 'Circle', 'Figure', 'FigureCanvasBase', 'FixedFormatter', 'FixedLocator', 'FormatStrFormatter', 'Formatter', 'FuncFormatter', 'GridSpec', 'IndexLocator', 'Line2D', 'LinearLocator', 'Locator', 'LogFormatter', 'LogFormatterExponent', 'LogFormatterMathtext', 'LogLocator', 'MaxNLocator', 'MouseButton', 'MultipleLocator', 'Normalize', 'NullFormatter', 'NullLocator', 'Number', 'PolarAxes', 'Polygon', 'Rectangle', 'ScalarFormatter', 'Slider', 'Subplot', 'SubplotSpec', 'Text', 'TickHelper', 'Widget', '_INSTALL_FIG_OBSERVER', '_IP_REGISTERED', '_IoffContext', '_IonContext', '__builtins__', '__cached__', '__doc__', '__file__', '__loader__', '__name__', '__package__', '__spec__', '_api', '_auto_draw_if_interactive', '_backend_mod', '_copy_docstring_and_deprecators', '_get_backend_mod', '_get_required_interactive_framework', '_interactive_bk', '_log', '_pylab_helpers', '_setup_pyplot_info_docstrings', '_warn_if_gui_out_of_main_thread', '_xkcd', 'acorr', 'angle_spectrum', 'annotate', 'arrow', 'autoscale', 'autumn', 'axes', 'axhline', 'axhspan', 'axis', 'axline', 'axvline', 'axvspan', 'bar', 'bar_label', 'barbs', 'barh', 'bone', 'box', 'boxplot', 'broken_barh', 'cbook', 'cla', 'clabel', 'clf', 'clim', 'close', 'cm', 'cohere', 'colorbar', 'colormaps', 'connect', 'contour', 'contourf', 'cool', 'copper', 'csd', 'cycler', 'delaxes', 'disconnect', 'docstring', 'draw', 'draw_all', 'draw_if_interactive', 'errorbar', 'eventplot', 'figaspect', 'figimage', 'figlegend', 'fignum_exists', 'figtext', 'figure', 'fill', 'fill_between', 'fill_betweenx', 'findobj', 'flag', 'functools', 'gca', 'gcf', 'gci', 'get', 'get_backend', 'get_cmap', 'get_current_fig_manager', 'get_figlabels', 'get_fignums', 'get_plot_commands', 'get_scale_names', 'getp', 'ginput', 'gray', 'grid', 'hexbin', 'hist', 'hist2d', 'hlines', 'hot', 'hsv', 'importlib', 'imread', 'imsave', 'imshow', 'inferno', 'inspect', 'install_repl_displayhook', 'interactive', 'ioff', 'ion', 'isinteractive', 'jet', 'legend', 'locator_params', 'logging', 'loglog', 'magma', 'magnitude_spectrum', 'margins', 'matplotlib', 'matshow', 'minorticks_off', 'minorticks_on', 'mlab', 'new_figure_manager', 'nipy_spectral', 'np', 'pause', 'pcolor', 'pcolormesh', 'phase_spectrum', 'pie', 'pink', 'plasma', 'plot', 'plot_date', 'plotting', 'polar', 'prism', 'psd', 'quiver', 'quiverkey', 'rc', 'rcParams', 'rcParamsDefault', 'rcParamsOrig', 'rc_context', 'rcdefaults', 'rcsetup', 're', 'register_cmap', 'rgrids', 'savefig', 'sca', 'scatter', 'sci', 'semilogx', 'semilogy', 'set_cmap', 'set_loglevel', 'setp', 'show', 'specgram', 'spring', 'spy', 'stackplot', 'stairs', 'stem', 'step', 'streamplot', 'style', 'subplot', 'subplot2grid', 'subplot_mosaic', 'subplot_tool', 'subplots', 'subplots_adjust', 'summer', 'suptitle', 'switch_backend', 'sys', 'table', 'text', 'thetagrids', 'threading', 'tick_params', 'ticklabel_format', 'tight_layout', 'time', 'title', 'tricontour', 'tricontourf', 'tripcolor', 'triplot', 'twinx', 'twiny', 'uninstall_repl_displayhook', 'violinplot', 'viridis', 'vlines', 'waitforbuttonpress', 'winter', 'xcorr', 'xkcd', 'xlabel', 'xlim', 'xscale', 'xticks', 'ylabel', 'ylim', 'yscale', 'yticks']\n"
     ]
    }
   ],
   "source": [
    "print(dir(plt))"
   ]
  },
  {
   "cell_type": "code",
   "execution_count": 10,
   "metadata": {},
   "outputs": [
    {
     "name": "stdout",
     "output_type": "stream",
     "text": [
      "\n",
      "`matplotlib.pyplot` is a state-based interface to matplotlib. It provides\n",
      "an implicit,  MATLAB-like, way of plotting.  It also opens figures on your\n",
      "screen, and acts as the figure GUI manager.\n",
      "\n",
      "pyplot is mainly intended for interactive plots and simple cases of\n",
      "programmatic plot generation::\n",
      "\n",
      "    import numpy as np\n",
      "    import matplotlib.pyplot as plt\n",
      "\n",
      "    x = np.arange(0, 5, 0.1)\n",
      "    y = np.sin(x)\n",
      "    plt.plot(x, y)\n",
      "\n",
      "The explicit (object-oriented) API is recommended for complex plots, though\n",
      "pyplot is still usually used to create the figure and often the axes in the\n",
      "figure. See `.pyplot.figure`, `.pyplot.subplots`, and\n",
      "`.pyplot.subplot_mosaic` to create figures, and\n",
      ":doc:`Axes API <../axes_api>` for the plotting methods on an axes::\n",
      "\n",
      "    import numpy as np\n",
      "    import matplotlib.pyplot as plt\n",
      "\n",
      "    x = np.arange(0, 5, 0.1)\n",
      "    y = np.sin(x)\n",
      "    fig, ax = plt.subplots()\n",
      "    ax.plot(x, y)\n",
      "\n"
     ]
    }
   ],
   "source": [
    "print(plt.__doc__)"
   ]
  },
  {
   "cell_type": "code",
   "execution_count": 11,
   "metadata": {},
   "outputs": [],
   "source": [
    "plt.plot?"
   ]
  },
  {
   "cell_type": "code",
   "execution_count": 12,
   "metadata": {},
   "outputs": [
    {
     "data": {
      "image/png": "[encoded data removed]",
      "text/plain": [
       "<Figure size 640x480 with 1 Axes>"
      ]
     },
     "metadata": {},
     "output_type": "display_data"
    }
   ],
   "source": [
    "import numpy as np\n",
    "ypoints = np.array([1, 8, 1, 10])\n",
    "\n",
    "plt.plot(ypoints, marker = '+')\n",
    "plt.title(\"Приклад\")\n",
    "plt.show()"
   ]
  },
  {
   "cell_type": "markdown",
   "metadata": {},
   "source": [
    "### ПРИКЛАД ПОШУКУ АНОМАЛІЙ ТА ВІДНОВЛЕННЯ ДАНИХ\n",
    "\n",
    "Оцінити та поліпшити якість даних про продаж нерухомості, які накопичені в файлі `aprt_properties.csv`\n"
   ]
  },
  {
   "cell_type": "markdown",
   "metadata": {},
   "source": [
    "Приведення даних до якості наобхідної для подальшого використання в моделях ML складається з декількох етапів:\n",
    "1. _Оцінка структури_ - визначення показчиків, які мають сенс в данному контексті та вилучення тих, що не є необхідними.\n",
    "2. _Приведення типів_ показчиків до придатності проведення чисельного аналізу та моделювання\n",
    "3. _Відновлення пропущених даних (missing data recovery)_ - застосування методів, які дозволяють відновити дані в яких відсутні значення (NaN, None, Null, '', ...)\n",
    "4. _Виявленя аномалій (outliers detection)_ - показчиків, значення яких не є допустимим в контексті аналізу."
   ]
  },
  {
   "cell_type": "code",
   "execution_count": 14,
   "metadata": {},
   "outputs": [],
   "source": [
    "pd.set_option?"
   ]
  },
  {
   "cell_type": "code",
   "execution_count": 15,
   "metadata": {},
   "outputs": [],
   "source": [
    "import pandas as pd\n",
    "import numpy as np\n",
    "\n",
    "pd.set_option(\"display.float_format\", '{:.1f}'.format)"
   ]
  },
  {
   "cell_type": "code",
   "execution_count": 16,
   "metadata": {
    "code_folding": []
   },
   "outputs": [],
   "source": [
    "# створюємо датафрейм та завантажуємо в нього csv-файл \n",
    "aprt = pd.read_csv('aprt_properties.csv', \n",
    "                    names=['ціна', \n",
    "                           'кімнат', \n",
    "                           'ціна за метр',\n",
    "                           'поверх',\n",
    "                           'всього поверхів',\n",
    "                           'рік збудови',\n",
    "                           'площа',\n",
    "                           'житлова площа',\n",
    "                           'кухня',\n",
    "                           'вулиця',\n",
    "                           'дата пропозиції'],\n",
    "                   index_col = False,\n",
    "                  )"
   ]
  },
  {
   "cell_type": "markdown",
   "metadata": {},
   "source": [
    "#### загальна інформація проо дані"
   ]
  },
  {
   "cell_type": "code",
   "execution_count": 17,
   "metadata": {},
   "outputs": [
    {
     "data": {
      "text/html": [
       "<div>\n",
       "<style scoped>\n",
       "    .dataframe tbody tr th:only-of-type {\n",
       "        vertical-align: middle;\n",
       "    }\n",
       "\n",
       "    .dataframe tbody tr th {\n",
       "        vertical-align: top;\n",
       "    }\n",
       "\n",
       "    .dataframe thead th {\n",
       "        text-align: right;\n",
       "    }\n",
       "</style>\n",
       "<table border=\"1\" class=\"dataframe\">\n",
       "  <thead>\n",
       "    <tr style=\"text-align: right;\">\n",
       "      <th></th>\n",
       "      <th>ціна</th>\n",
       "      <th>кімнат</th>\n",
       "      <th>ціна за метр</th>\n",
       "      <th>поверх</th>\n",
       "      <th>всього поверхів</th>\n",
       "      <th>рік збудови</th>\n",
       "      <th>площа</th>\n",
       "      <th>житлова площа</th>\n",
       "      <th>кухня</th>\n",
       "      <th>вулиця</th>\n",
       "      <th>дата пропозиції</th>\n",
       "    </tr>\n",
       "  </thead>\n",
       "  <tbody>\n",
       "    <tr>\n",
       "      <th>0</th>\n",
       "      <td>140000.0</td>\n",
       "      <td>2</td>\n",
       "      <td>2258.0</td>\n",
       "      <td>7</td>\n",
       "      <td>9</td>\n",
       "      <td>1969</td>\n",
       "      <td>62.0</td>\n",
       "      <td>47.0</td>\n",
       "      <td>9.0</td>\n",
       "      <td>Омеляновича-Павленка</td>\n",
       "      <td>3 вересня 2020 р.</td>\n",
       "    </tr>\n",
       "    <tr>\n",
       "      <th>1</th>\n",
       "      <td>105000.0</td>\n",
       "      <td>4</td>\n",
       "      <td>847.0</td>\n",
       "      <td>25</td>\n",
       "      <td>26</td>\n",
       "      <td>2018</td>\n",
       "      <td>124.0</td>\n",
       "      <td>71.0</td>\n",
       "      <td>16.0</td>\n",
       "      <td></td>\n",
       "      <td>7 жовтня 2020 р.</td>\n",
       "    </tr>\n",
       "    <tr>\n",
       "      <th>2</th>\n",
       "      <td>175000.0</td>\n",
       "      <td>3</td>\n",
       "      <td>1786.0</td>\n",
       "      <td>25</td>\n",
       "      <td>26</td>\n",
       "      <td>2010</td>\n",
       "      <td>98.0</td>\n",
       "      <td>None</td>\n",
       "      <td>None</td>\n",
       "      <td>Ованеса Туманяна</td>\n",
       "      <td>1 жовтня 2020 р.</td>\n",
       "    </tr>\n",
       "    <tr>\n",
       "      <th>3</th>\n",
       "      <td>30970.0</td>\n",
       "      <td>1</td>\n",
       "      <td>1106.0</td>\n",
       "      <td>12</td>\n",
       "      <td>13</td>\n",
       "      <td>2013</td>\n",
       "      <td>28.0</td>\n",
       "      <td>13.0</td>\n",
       "      <td>5.0</td>\n",
       "      <td>Петропавлівська</td>\n",
       "      <td>1 лютого</td>\n",
       "    </tr>\n",
       "    <tr>\n",
       "      <th>4</th>\n",
       "      <td>82000.0</td>\n",
       "      <td>2</td>\n",
       "      <td>1281.0</td>\n",
       "      <td>18</td>\n",
       "      <td>26</td>\n",
       "      <td>None</td>\n",
       "      <td>64.0</td>\n",
       "      <td>None</td>\n",
       "      <td>None</td>\n",
       "      <td>Дніпровська</td>\n",
       "      <td>*** not found</td>\n",
       "    </tr>\n",
       "  </tbody>\n",
       "</table>\n",
       "</div>"
      ],
      "text/plain": [
       "      ціна кімнат ціна за метр поверх всього поверхів рік збудови  площа  \\\n",
       "0 140000.0      2       2258.0      7               9        1969   62.0   \n",
       "1 105000.0      4        847.0     25              26        2018  124.0   \n",
       "2 175000.0      3       1786.0     25              26        2010   98.0   \n",
       "3  30970.0      1       1106.0     12              13        2013   28.0   \n",
       "4  82000.0      2       1281.0     18              26        None   64.0   \n",
       "\n",
       "  житлова площа кухня                 вулиця    дата пропозиції  \n",
       "0          47.0   9.0   Омеляновича-Павленка  3 вересня 2020 р.  \n",
       "1          71.0  16.0                          7 жовтня 2020 р.  \n",
       "2          None  None       Ованеса Туманяна   1 жовтня 2020 р.  \n",
       "3          13.0   5.0        Петропавлівська           1 лютого  \n",
       "4          None  None            Дніпровська      *** not found  "
      ]
     },
     "execution_count": 17,
     "metadata": {},
     "output_type": "execute_result"
    }
   ],
   "source": [
    "# вивести 5 перших рядків датасету\n",
    "aprt.head(5)"
   ]
  },
  {
   "cell_type": "code",
   "execution_count": 18,
   "metadata": {},
   "outputs": [
    {
     "name": "stdout",
     "output_type": "stream",
     "text": [
      "<class 'pandas.core.frame.DataFrame'>\n",
      "RangeIndex: 728 entries, 0 to 727\n",
      "Data columns (total 11 columns):\n",
      " #   Column           Non-Null Count  Dtype  \n",
      "---  ------           --------------  -----  \n",
      " 0   ціна             728 non-null    float64\n",
      " 1   кімнат           728 non-null    object \n",
      " 2   ціна за метр     728 non-null    object \n",
      " 3   поверх           728 non-null    object \n",
      " 4   всього поверхів  728 non-null    object \n",
      " 5   рік збудови      728 non-null    object \n",
      " 6   площа            728 non-null    object \n",
      " 7   житлова площа    728 non-null    object \n",
      " 8   кухня            728 non-null    object \n",
      " 9   вулиця           728 non-null    object \n",
      " 10  дата пропозиції  728 non-null    object \n",
      "dtypes: float64(1), object(10)\n",
      "memory usage: 62.7+ KB\n"
     ]
    }
   ],
   "source": [
    "# оцінка типів показчиків\n",
    "aprt.info()"
   ]
  },
  {
   "cell_type": "code",
   "execution_count": null,
   "metadata": {},
   "outputs": [],
   "source": [
    "# перелік колонок датасета\n",
    "aprt.columns"
   ]
  },
  {
   "cell_type": "code",
   "execution_count": 19,
   "metadata": {},
   "outputs": [],
   "source": [
    "# вилучення непотрібних колонок\n",
    "aprt.drop(columns=['вулиця','дата пропозиції'], inplace=True)"
   ]
  },
  {
   "cell_type": "code",
   "execution_count": 20,
   "metadata": {},
   "outputs": [
    {
     "data": {
      "text/html": [
       "<div>\n",
       "<style scoped>\n",
       "    .dataframe tbody tr th:only-of-type {\n",
       "        vertical-align: middle;\n",
       "    }\n",
       "\n",
       "    .dataframe tbody tr th {\n",
       "        vertical-align: top;\n",
       "    }\n",
       "\n",
       "    .dataframe thead th {\n",
       "        text-align: right;\n",
       "    }\n",
       "</style>\n",
       "<table border=\"1\" class=\"dataframe\">\n",
       "  <thead>\n",
       "    <tr style=\"text-align: right;\">\n",
       "      <th></th>\n",
       "      <th>ціна</th>\n",
       "      <th>кімнат</th>\n",
       "      <th>ціна за метр</th>\n",
       "      <th>поверх</th>\n",
       "      <th>всього поверхів</th>\n",
       "      <th>рік збудови</th>\n",
       "      <th>площа</th>\n",
       "      <th>житлова площа</th>\n",
       "      <th>кухня</th>\n",
       "    </tr>\n",
       "  </thead>\n",
       "  <tbody>\n",
       "    <tr>\n",
       "      <th>0</th>\n",
       "      <td>140000.0</td>\n",
       "      <td>2</td>\n",
       "      <td>2258.0</td>\n",
       "      <td>7</td>\n",
       "      <td>9</td>\n",
       "      <td>1969</td>\n",
       "      <td>62.0</td>\n",
       "      <td>47.0</td>\n",
       "      <td>9.0</td>\n",
       "    </tr>\n",
       "    <tr>\n",
       "      <th>1</th>\n",
       "      <td>105000.0</td>\n",
       "      <td>4</td>\n",
       "      <td>847.0</td>\n",
       "      <td>25</td>\n",
       "      <td>26</td>\n",
       "      <td>2018</td>\n",
       "      <td>124.0</td>\n",
       "      <td>71.0</td>\n",
       "      <td>16.0</td>\n",
       "    </tr>\n",
       "    <tr>\n",
       "      <th>2</th>\n",
       "      <td>175000.0</td>\n",
       "      <td>3</td>\n",
       "      <td>1786.0</td>\n",
       "      <td>25</td>\n",
       "      <td>26</td>\n",
       "      <td>2010</td>\n",
       "      <td>98.0</td>\n",
       "      <td>None</td>\n",
       "      <td>None</td>\n",
       "    </tr>\n",
       "  </tbody>\n",
       "</table>\n",
       "</div>"
      ],
      "text/plain": [
       "      ціна кімнат ціна за метр поверх всього поверхів рік збудови  площа  \\\n",
       "0 140000.0      2       2258.0      7               9        1969   62.0   \n",
       "1 105000.0      4        847.0     25              26        2018  124.0   \n",
       "2 175000.0      3       1786.0     25              26        2010   98.0   \n",
       "\n",
       "  житлова площа кухня  \n",
       "0          47.0   9.0  \n",
       "1          71.0  16.0  \n",
       "2          None  None  "
      ]
     },
     "execution_count": 20,
     "metadata": {},
     "output_type": "execute_result"
    }
   ],
   "source": [
    "aprt.head(3)"
   ]
  },
  {
   "cell_type": "markdown",
   "metadata": {},
   "source": [
    "#### перетворення типів показчиків"
   ]
  },
  {
   "cell_type": "code",
   "execution_count": 21,
   "metadata": {},
   "outputs": [
    {
     "data": {
      "text/plain": [
       "Index(['ціна', 'кімнат', 'ціна за метр', 'поверх', 'всього поверхів',\n",
       "       'рік збудови', 'площа', 'житлова площа', 'кухня'],\n",
       "      dtype='object')"
      ]
     },
     "execution_count": 21,
     "metadata": {},
     "output_type": "execute_result"
    }
   ],
   "source": [
    "aprt.columns"
   ]
  },
  {
   "cell_type": "code",
   "execution_count": 25,
   "metadata": {},
   "outputs": [],
   "source": [
    "pd.to_numeric?"
   ]
  },
  {
   "cell_type": "code",
   "execution_count": 23,
   "metadata": {},
   "outputs": [],
   "source": [
    "for prop in aprt.columns:\n",
    "    aprt[prop] = pd.to_numeric(aprt[prop], errors='coerce')"
   ]
  },
  {
   "cell_type": "code",
   "execution_count": 24,
   "metadata": {
    "scrolled": true
   },
   "outputs": [
    {
     "data": {
      "text/html": [
       "<div>\n",
       "<style scoped>\n",
       "    .dataframe tbody tr th:only-of-type {\n",
       "        vertical-align: middle;\n",
       "    }\n",
       "\n",
       "    .dataframe tbody tr th {\n",
       "        vertical-align: top;\n",
       "    }\n",
       "\n",
       "    .dataframe thead th {\n",
       "        text-align: right;\n",
       "    }\n",
       "</style>\n",
       "<table border=\"1\" class=\"dataframe\">\n",
       "  <thead>\n",
       "    <tr style=\"text-align: right;\">\n",
       "      <th></th>\n",
       "      <th>ціна</th>\n",
       "      <th>кімнат</th>\n",
       "      <th>ціна за метр</th>\n",
       "      <th>поверх</th>\n",
       "      <th>всього поверхів</th>\n",
       "      <th>рік збудови</th>\n",
       "      <th>площа</th>\n",
       "      <th>житлова площа</th>\n",
       "      <th>кухня</th>\n",
       "    </tr>\n",
       "  </thead>\n",
       "  <tbody>\n",
       "    <tr>\n",
       "      <th>0</th>\n",
       "      <td>140000.0</td>\n",
       "      <td>2.0</td>\n",
       "      <td>2258.0</td>\n",
       "      <td>7.0</td>\n",
       "      <td>9.0</td>\n",
       "      <td>1969.0</td>\n",
       "      <td>62.0</td>\n",
       "      <td>47.0</td>\n",
       "      <td>9.0</td>\n",
       "    </tr>\n",
       "    <tr>\n",
       "      <th>1</th>\n",
       "      <td>105000.0</td>\n",
       "      <td>4.0</td>\n",
       "      <td>847.0</td>\n",
       "      <td>25.0</td>\n",
       "      <td>26.0</td>\n",
       "      <td>2018.0</td>\n",
       "      <td>124.0</td>\n",
       "      <td>71.0</td>\n",
       "      <td>16.0</td>\n",
       "    </tr>\n",
       "    <tr>\n",
       "      <th>2</th>\n",
       "      <td>175000.0</td>\n",
       "      <td>3.0</td>\n",
       "      <td>1786.0</td>\n",
       "      <td>25.0</td>\n",
       "      <td>26.0</td>\n",
       "      <td>2010.0</td>\n",
       "      <td>98.0</td>\n",
       "      <td>NaN</td>\n",
       "      <td>NaN</td>\n",
       "    </tr>\n",
       "  </tbody>\n",
       "</table>\n",
       "</div>"
      ],
      "text/plain": [
       "      ціна  кімнат  ціна за метр  поверх  всього поверхів  рік збудови  площа  \\\n",
       "0 140000.0     2.0        2258.0     7.0              9.0       1969.0   62.0   \n",
       "1 105000.0     4.0         847.0    25.0             26.0       2018.0  124.0   \n",
       "2 175000.0     3.0        1786.0    25.0             26.0       2010.0   98.0   \n",
       "\n",
       "   житлова площа  кухня  \n",
       "0           47.0    9.0  \n",
       "1           71.0   16.0  \n",
       "2            NaN    NaN  "
      ]
     },
     "execution_count": 24,
     "metadata": {},
     "output_type": "execute_result"
    }
   ],
   "source": [
    "aprt.head(3)"
   ]
  },
  {
   "cell_type": "code",
   "execution_count": 25,
   "metadata": {
    "scrolled": true
   },
   "outputs": [
    {
     "name": "stdout",
     "output_type": "stream",
     "text": [
      "<class 'pandas.core.frame.DataFrame'>\n",
      "RangeIndex: 728 entries, 0 to 727\n",
      "Data columns (total 9 columns):\n",
      " #   Column           Non-Null Count  Dtype  \n",
      "---  ------           --------------  -----  \n",
      " 0   ціна             728 non-null    float64\n",
      " 1   кімнат           724 non-null    float64\n",
      " 2   ціна за метр     723 non-null    float64\n",
      " 3   поверх           703 non-null    float64\n",
      " 4   всього поверхів  703 non-null    float64\n",
      " 5   рік збудови      540 non-null    float64\n",
      " 6   площа            640 non-null    float64\n",
      " 7   житлова площа    497 non-null    float64\n",
      " 8   кухня            524 non-null    float64\n",
      "dtypes: float64(9)\n",
      "memory usage: 51.3 KB\n"
     ]
    }
   ],
   "source": [
    "aprt.info()"
   ]
  },
  {
   "cell_type": "code",
   "execution_count": 26,
   "metadata": {},
   "outputs": [
    {
     "data": {
      "text/html": [
       "<div>\n",
       "<style scoped>\n",
       "    .dataframe tbody tr th:only-of-type {\n",
       "        vertical-align: middle;\n",
       "    }\n",
       "\n",
       "    .dataframe tbody tr th {\n",
       "        vertical-align: top;\n",
       "    }\n",
       "\n",
       "    .dataframe thead th {\n",
       "        text-align: right;\n",
       "    }\n",
       "</style>\n",
       "<table border=\"1\" class=\"dataframe\">\n",
       "  <thead>\n",
       "    <tr style=\"text-align: right;\">\n",
       "      <th></th>\n",
       "      <th>ціна</th>\n",
       "      <th>кімнат</th>\n",
       "      <th>ціна за метр</th>\n",
       "      <th>поверх</th>\n",
       "      <th>всього поверхів</th>\n",
       "      <th>рік збудови</th>\n",
       "      <th>площа</th>\n",
       "      <th>житлова площа</th>\n",
       "      <th>кухня</th>\n",
       "    </tr>\n",
       "  </thead>\n",
       "  <tbody>\n",
       "    <tr>\n",
       "      <th>count</th>\n",
       "      <td>728.0</td>\n",
       "      <td>724.0</td>\n",
       "      <td>723.0</td>\n",
       "      <td>703.0</td>\n",
       "      <td>703.0</td>\n",
       "      <td>540.0</td>\n",
       "      <td>640.0</td>\n",
       "      <td>497.0</td>\n",
       "      <td>524.0</td>\n",
       "    </tr>\n",
       "    <tr>\n",
       "      <th>mean</th>\n",
       "      <td>200138.4</td>\n",
       "      <td>2.2</td>\n",
       "      <td>2090.3</td>\n",
       "      <td>9.6</td>\n",
       "      <td>17.7</td>\n",
       "      <td>1996.7</td>\n",
       "      <td>79.9</td>\n",
       "      <td>42.3</td>\n",
       "      <td>15.9</td>\n",
       "    </tr>\n",
       "    <tr>\n",
       "      <th>std</th>\n",
       "      <td>674893.9</td>\n",
       "      <td>1.0</td>\n",
       "      <td>5900.9</td>\n",
       "      <td>6.9</td>\n",
       "      <td>8.5</td>\n",
       "      <td>27.1</td>\n",
       "      <td>51.1</td>\n",
       "      <td>30.6</td>\n",
       "      <td>10.0</td>\n",
       "    </tr>\n",
       "    <tr>\n",
       "      <th>min</th>\n",
       "      <td>10092.1</td>\n",
       "      <td>1.0</td>\n",
       "      <td>478.0</td>\n",
       "      <td>1.0</td>\n",
       "      <td>2.0</td>\n",
       "      <td>1860.0</td>\n",
       "      <td>15.0</td>\n",
       "      <td>10.0</td>\n",
       "      <td>3.0</td>\n",
       "    </tr>\n",
       "    <tr>\n",
       "      <th>25%</th>\n",
       "      <td>65000.0</td>\n",
       "      <td>1.0</td>\n",
       "      <td>1147.0</td>\n",
       "      <td>4.0</td>\n",
       "      <td>9.0</td>\n",
       "      <td>1977.0</td>\n",
       "      <td>50.0</td>\n",
       "      <td>25.0</td>\n",
       "      <td>10.0</td>\n",
       "    </tr>\n",
       "    <tr>\n",
       "      <th>50%</th>\n",
       "      <td>103950.0</td>\n",
       "      <td>2.0</td>\n",
       "      <td>1562.0</td>\n",
       "      <td>8.0</td>\n",
       "      <td>19.0</td>\n",
       "      <td>2010.0</td>\n",
       "      <td>68.5</td>\n",
       "      <td>37.0</td>\n",
       "      <td>14.0</td>\n",
       "    </tr>\n",
       "    <tr>\n",
       "      <th>75%</th>\n",
       "      <td>170000.0</td>\n",
       "      <td>3.0</td>\n",
       "      <td>2188.0</td>\n",
       "      <td>14.0</td>\n",
       "      <td>25.0</td>\n",
       "      <td>2016.0</td>\n",
       "      <td>92.2</td>\n",
       "      <td>50.0</td>\n",
       "      <td>18.0</td>\n",
       "    </tr>\n",
       "    <tr>\n",
       "      <th>max</th>\n",
       "      <td>15700000.0</td>\n",
       "      <td>7.0</td>\n",
       "      <td>157000.0</td>\n",
       "      <td>33.0</td>\n",
       "      <td>47.0</td>\n",
       "      <td>2021.0</td>\n",
       "      <td>520.0</td>\n",
       "      <td>320.0</td>\n",
       "      <td>78.0</td>\n",
       "    </tr>\n",
       "  </tbody>\n",
       "</table>\n",
       "</div>"
      ],
      "text/plain": [
       "            ціна  кімнат  ціна за метр  поверх  всього поверхів  рік збудови  \\\n",
       "count      728.0   724.0         723.0   703.0            703.0        540.0   \n",
       "mean    200138.4     2.2        2090.3     9.6             17.7       1996.7   \n",
       "std     674893.9     1.0        5900.9     6.9              8.5         27.1   \n",
       "min      10092.1     1.0         478.0     1.0              2.0       1860.0   \n",
       "25%      65000.0     1.0        1147.0     4.0              9.0       1977.0   \n",
       "50%     103950.0     2.0        1562.0     8.0             19.0       2010.0   \n",
       "75%     170000.0     3.0        2188.0    14.0             25.0       2016.0   \n",
       "max   15700000.0     7.0      157000.0    33.0             47.0       2021.0   \n",
       "\n",
       "       площа  житлова площа  кухня  \n",
       "count  640.0          497.0  524.0  \n",
       "mean    79.9           42.3   15.9  \n",
       "std     51.1           30.6   10.0  \n",
       "min     15.0           10.0    3.0  \n",
       "25%     50.0           25.0   10.0  \n",
       "50%     68.5           37.0   14.0  \n",
       "75%     92.2           50.0   18.0  \n",
       "max    520.0          320.0   78.0  "
      ]
     },
     "execution_count": 26,
     "metadata": {},
     "output_type": "execute_result"
    }
   ],
   "source": [
    "aprt.describe()"
   ]
  },
  {
   "cell_type": "markdown",
   "metadata": {},
   "source": [
    "#### відновлення пропущених даних"
   ]
  },
  {
   "cell_type": "markdown",
   "metadata": {},
   "source": [
    "__Методи, що використовуються для відновлення даних:__\n",
    "1. Вилучення пропущених даних\n",
    "2. Заповнення пропущених даних обрахованим статистичним показчиком або константою\n",
    "3. [Інтерполяція пропущених даних](https://www.geeksforgeeks.org/python-pandas-dataframe-interpolate/)\n",
    "4. Використання моделей ML та DL для прогнозування пропущених даних"
   ]
  },
  {
   "cell_type": "code",
   "execution_count": 27,
   "metadata": {},
   "outputs": [
    {
     "name": "stdout",
     "output_type": "stream",
     "text": [
      "<class 'pandas.core.frame.DataFrame'>\n",
      "RangeIndex: 728 entries, 0 to 727\n",
      "Data columns (total 9 columns):\n",
      " #   Column           Non-Null Count  Dtype  \n",
      "---  ------           --------------  -----  \n",
      " 0   ціна             728 non-null    float64\n",
      " 1   кімнат           724 non-null    float64\n",
      " 2   ціна за метр     723 non-null    float64\n",
      " 3   поверх           703 non-null    float64\n",
      " 4   всього поверхів  703 non-null    float64\n",
      " 5   рік збудови      540 non-null    float64\n",
      " 6   площа            640 non-null    float64\n",
      " 7   житлова площа    497 non-null    float64\n",
      " 8   кухня            524 non-null    float64\n",
      "dtypes: float64(9)\n",
      "memory usage: 51.3 KB\n"
     ]
    }
   ],
   "source": [
    "# статистика пропущених даних\n",
    "# в табличній формі\n",
    "aprt.info()"
   ]
  },
  {
   "cell_type": "code",
   "execution_count": 28,
   "metadata": {
    "run_control": {
     "marked": false
    }
   },
   "outputs": [
    {
     "data": {
      "image/png": "[encoded data removed]",
      "text/plain": [
       "<Figure size 432x288 with 1 Axes>"
      ]
     },
     "metadata": {
      "needs_background": "light"
     },
     "output_type": "display_data"
    }
   ],
   "source": [
    "# або в графічній формі\n",
    "plt.bar(aprt.columns, aprt.count())\n",
    "plt.ylabel(\"кількість заповнених значень\")\n",
    "plt.xticks(rotation='vertical')\n",
    "plt.title('Графік не пустих значень')\n",
    "plt.show()"
   ]
  },
  {
   "cell_type": "code",
   "execution_count": 29,
   "metadata": {},
   "outputs": [],
   "source": [
    "missing_data_mask = aprt.isna()"
   ]
  },
  {
   "cell_type": "code",
   "execution_count": 30,
   "metadata": {
    "scrolled": true
   },
   "outputs": [
    {
     "data": {
      "text/html": [
       "<div>\n",
       "<style scoped>\n",
       "    .dataframe tbody tr th:only-of-type {\n",
       "        vertical-align: middle;\n",
       "    }\n",
       "\n",
       "    .dataframe tbody tr th {\n",
       "        vertical-align: top;\n",
       "    }\n",
       "\n",
       "    .dataframe thead th {\n",
       "        text-align: right;\n",
       "    }\n",
       "</style>\n",
       "<table border=\"1\" class=\"dataframe\">\n",
       "  <thead>\n",
       "    <tr style=\"text-align: right;\">\n",
       "      <th></th>\n",
       "      <th>ціна</th>\n",
       "      <th>кімнат</th>\n",
       "      <th>ціна за метр</th>\n",
       "      <th>поверх</th>\n",
       "      <th>всього поверхів</th>\n",
       "      <th>рік збудови</th>\n",
       "      <th>площа</th>\n",
       "      <th>житлова площа</th>\n",
       "      <th>кухня</th>\n",
       "    </tr>\n",
       "  </thead>\n",
       "  <tbody>\n",
       "    <tr>\n",
       "      <th>0</th>\n",
       "      <td>False</td>\n",
       "      <td>False</td>\n",
       "      <td>False</td>\n",
       "      <td>False</td>\n",
       "      <td>False</td>\n",
       "      <td>False</td>\n",
       "      <td>False</td>\n",
       "      <td>False</td>\n",
       "      <td>False</td>\n",
       "    </tr>\n",
       "    <tr>\n",
       "      <th>1</th>\n",
       "      <td>False</td>\n",
       "      <td>False</td>\n",
       "      <td>False</td>\n",
       "      <td>False</td>\n",
       "      <td>False</td>\n",
       "      <td>False</td>\n",
       "      <td>False</td>\n",
       "      <td>False</td>\n",
       "      <td>False</td>\n",
       "    </tr>\n",
       "    <tr>\n",
       "      <th>2</th>\n",
       "      <td>False</td>\n",
       "      <td>False</td>\n",
       "      <td>False</td>\n",
       "      <td>False</td>\n",
       "      <td>False</td>\n",
       "      <td>False</td>\n",
       "      <td>False</td>\n",
       "      <td>True</td>\n",
       "      <td>True</td>\n",
       "    </tr>\n",
       "    <tr>\n",
       "      <th>3</th>\n",
       "      <td>False</td>\n",
       "      <td>False</td>\n",
       "      <td>False</td>\n",
       "      <td>False</td>\n",
       "      <td>False</td>\n",
       "      <td>False</td>\n",
       "      <td>False</td>\n",
       "      <td>False</td>\n",
       "      <td>False</td>\n",
       "    </tr>\n",
       "    <tr>\n",
       "      <th>4</th>\n",
       "      <td>False</td>\n",
       "      <td>False</td>\n",
       "      <td>False</td>\n",
       "      <td>False</td>\n",
       "      <td>False</td>\n",
       "      <td>True</td>\n",
       "      <td>False</td>\n",
       "      <td>True</td>\n",
       "      <td>True</td>\n",
       "    </tr>\n",
       "  </tbody>\n",
       "</table>\n",
       "</div>"
      ],
      "text/plain": [
       "    ціна  кімнат  ціна за метр  поверх  всього поверхів  рік збудови  площа  \\\n",
       "0  False   False         False   False            False        False  False   \n",
       "1  False   False         False   False            False        False  False   \n",
       "2  False   False         False   False            False        False  False   \n",
       "3  False   False         False   False            False        False  False   \n",
       "4  False   False         False   False            False         True  False   \n",
       "\n",
       "   житлова площа  кухня  \n",
       "0          False  False  \n",
       "1          False  False  \n",
       "2           True   True  \n",
       "3          False  False  \n",
       "4           True   True  "
      ]
     },
     "execution_count": 30,
     "metadata": {},
     "output_type": "execute_result"
    }
   ],
   "source": [
    "missing_data_mask.head(5)"
   ]
  },
  {
   "cell_type": "code",
   "execution_count": 31,
   "metadata": {},
   "outputs": [],
   "source": [
    "# частка пропущених даних\n",
    "missing_fruction = missing_data_mask.sum(axis=1)/len(aprt.columns)"
   ]
  },
  {
   "cell_type": "code",
   "execution_count": 33,
   "metadata": {},
   "outputs": [
    {
     "data": {
      "text/plain": [
       "728"
      ]
     },
     "execution_count": 33,
     "metadata": {},
     "output_type": "execute_result"
    }
   ],
   "source": [
    "len(missing_fruction)"
   ]
  },
  {
   "cell_type": "code",
   "execution_count": 32,
   "metadata": {},
   "outputs": [
    {
     "data": {
      "text/plain": [
       "0   0.0\n",
       "1   0.0\n",
       "2   0.2\n",
       "3   0.0\n",
       "4   0.3\n",
       "5   0.0\n",
       "6   0.2\n",
       "7   0.0\n",
       "8   0.0\n",
       "9   0.2\n",
       "dtype: float64"
      ]
     },
     "execution_count": 32,
     "metadata": {},
     "output_type": "execute_result"
    }
   ],
   "source": [
    "missing_fruction.head(10)"
   ]
  },
  {
   "cell_type": "code",
   "execution_count": 34,
   "metadata": {
    "scrolled": true
   },
   "outputs": [],
   "source": [
    "# вилученя рядків що містять 5 або більше відсутніх показчиків\n",
    "aprt.dropna(thresh=5, inplace=True)"
   ]
  },
  {
   "cell_type": "code",
   "execution_count": 35,
   "metadata": {},
   "outputs": [
    {
     "name": "stdout",
     "output_type": "stream",
     "text": [
      "<class 'pandas.core.frame.DataFrame'>\n",
      "Int64Index: 706 entries, 0 to 727\n",
      "Data columns (total 9 columns):\n",
      " #   Column           Non-Null Count  Dtype  \n",
      "---  ------           --------------  -----  \n",
      " 0   ціна             706 non-null    float64\n",
      " 1   кімнат           704 non-null    float64\n",
      " 2   ціна за метр     705 non-null    float64\n",
      " 3   поверх           703 non-null    float64\n",
      " 4   всього поверхів  703 non-null    float64\n",
      " 5   рік збудови      539 non-null    float64\n",
      " 6   площа            623 non-null    float64\n",
      " 7   житлова площа    497 non-null    float64\n",
      " 8   кухня            524 non-null    float64\n",
      "dtypes: float64(9)\n",
      "memory usage: 55.2 KB\n"
     ]
    }
   ],
   "source": [
    "aprt.info()"
   ]
  },
  {
   "cell_type": "code",
   "execution_count": 36,
   "metadata": {},
   "outputs": [
    {
     "data": {
      "text/plain": [
       "ціна              195986.3\n",
       "кімнат                 2.2\n",
       "ціна за метр        2066.1\n",
       "поверх                 9.6\n",
       "всього поверхів       17.7\n",
       "рік збудови         1996.7\n",
       "площа                 79.6\n",
       "житлова площа         42.3\n",
       "кухня                 15.9\n",
       "dtype: float64"
      ]
     },
     "execution_count": 36,
     "metadata": {},
     "output_type": "execute_result"
    }
   ],
   "source": [
    "aprt.mean(axis=0)"
   ]
  },
  {
   "cell_type": "code",
   "execution_count": 37,
   "metadata": {},
   "outputs": [
    {
     "data": {
      "text/plain": [
       "ціна              101250.0\n",
       "кімнат                 2.0\n",
       "ціна за метр        1550.0\n",
       "поверх                 8.0\n",
       "всього поверхів       19.0\n",
       "рік збудови         2010.0\n",
       "площа                 69.0\n",
       "житлова площа         37.0\n",
       "кухня                 14.0\n",
       "dtype: float64"
      ]
     },
     "execution_count": 37,
     "metadata": {},
     "output_type": "execute_result"
    }
   ],
   "source": [
    "aprt.median(axis=0)"
   ]
  },
  {
   "cell_type": "code",
   "execution_count": 38,
   "metadata": {},
   "outputs": [
    {
     "data": {
      "text/html": [
       "<div>\n",
       "<style scoped>\n",
       "    .dataframe tbody tr th:only-of-type {\n",
       "        vertical-align: middle;\n",
       "    }\n",
       "\n",
       "    .dataframe tbody tr th {\n",
       "        vertical-align: top;\n",
       "    }\n",
       "\n",
       "    .dataframe thead th {\n",
       "        text-align: right;\n",
       "    }\n",
       "</style>\n",
       "<table border=\"1\" class=\"dataframe\">\n",
       "  <thead>\n",
       "    <tr style=\"text-align: right;\">\n",
       "      <th></th>\n",
       "      <th>Mean</th>\n",
       "      <th>Median</th>\n",
       "      <th>Std</th>\n",
       "      <th>Mean - Std</th>\n",
       "    </tr>\n",
       "  </thead>\n",
       "  <tbody>\n",
       "    <tr>\n",
       "      <th>ціна</th>\n",
       "      <td>195986.3</td>\n",
       "      <td>101250.0</td>\n",
       "      <td>681978.0</td>\n",
       "      <td>-485991.7</td>\n",
       "    </tr>\n",
       "    <tr>\n",
       "      <th>кімнат</th>\n",
       "      <td>2.2</td>\n",
       "      <td>2.0</td>\n",
       "      <td>1.0</td>\n",
       "      <td>1.2</td>\n",
       "    </tr>\n",
       "    <tr>\n",
       "      <th>ціна за метр</th>\n",
       "      <td>2066.1</td>\n",
       "      <td>1550.0</td>\n",
       "      <td>5968.9</td>\n",
       "      <td>-3902.8</td>\n",
       "    </tr>\n",
       "    <tr>\n",
       "      <th>поверх</th>\n",
       "      <td>9.6</td>\n",
       "      <td>8.0</td>\n",
       "      <td>6.9</td>\n",
       "      <td>2.7</td>\n",
       "    </tr>\n",
       "    <tr>\n",
       "      <th>всього поверхів</th>\n",
       "      <td>17.7</td>\n",
       "      <td>19.0</td>\n",
       "      <td>8.5</td>\n",
       "      <td>9.2</td>\n",
       "    </tr>\n",
       "    <tr>\n",
       "      <th>рік збудови</th>\n",
       "      <td>1996.7</td>\n",
       "      <td>2010.0</td>\n",
       "      <td>27.2</td>\n",
       "      <td>1969.5</td>\n",
       "    </tr>\n",
       "    <tr>\n",
       "      <th>площа</th>\n",
       "      <td>79.6</td>\n",
       "      <td>69.0</td>\n",
       "      <td>50.5</td>\n",
       "      <td>29.2</td>\n",
       "    </tr>\n",
       "    <tr>\n",
       "      <th>житлова площа</th>\n",
       "      <td>42.3</td>\n",
       "      <td>37.0</td>\n",
       "      <td>30.6</td>\n",
       "      <td>11.7</td>\n",
       "    </tr>\n",
       "    <tr>\n",
       "      <th>кухня</th>\n",
       "      <td>15.9</td>\n",
       "      <td>14.0</td>\n",
       "      <td>10.0</td>\n",
       "      <td>5.8</td>\n",
       "    </tr>\n",
       "  </tbody>\n",
       "</table>\n",
       "</div>"
      ],
      "text/plain": [
       "                    Mean   Median      Std  Mean - Std\n",
       "ціна            195986.3 101250.0 681978.0   -485991.7\n",
       "кімнат               2.2      2.0      1.0         1.2\n",
       "ціна за метр      2066.1   1550.0   5968.9     -3902.8\n",
       "поверх               9.6      8.0      6.9         2.7\n",
       "всього поверхів     17.7     19.0      8.5         9.2\n",
       "рік збудови       1996.7   2010.0     27.2      1969.5\n",
       "площа               79.6     69.0     50.5        29.2\n",
       "житлова площа       42.3     37.0     30.6        11.7\n",
       "кухня               15.9     14.0     10.0         5.8"
      ]
     },
     "execution_count": 38,
     "metadata": {},
     "output_type": "execute_result"
    }
   ],
   "source": [
    "# вибір заповнювача - побудуємо допоміжний датафрейм\n",
    "pd.DataFrame(data={\"Mean\"      : aprt.mean(axis=0),\n",
    "                   \"Median\"    : aprt.median(axis=0),\n",
    "                   \"Std\"       : aprt.std(axis=0),\n",
    "                   \"Mean - Std\": aprt.mean(axis=0) - aprt.std(axis=0)} )"
   ]
  },
  {
   "cell_type": "code",
   "execution_count": 39,
   "metadata": {},
   "outputs": [],
   "source": [
    "# заповнити пропущені дані медіаной відповідного показчика\n",
    "aprt.fillna(aprt.median(), axis=0, inplace=True)"
   ]
  },
  {
   "cell_type": "code",
   "execution_count": 40,
   "metadata": {},
   "outputs": [
    {
     "name": "stdout",
     "output_type": "stream",
     "text": [
      "<class 'pandas.core.frame.DataFrame'>\n",
      "Int64Index: 706 entries, 0 to 727\n",
      "Data columns (total 9 columns):\n",
      " #   Column           Non-Null Count  Dtype  \n",
      "---  ------           --------------  -----  \n",
      " 0   ціна             706 non-null    float64\n",
      " 1   кімнат           706 non-null    float64\n",
      " 2   ціна за метр     706 non-null    float64\n",
      " 3   поверх           706 non-null    float64\n",
      " 4   всього поверхів  706 non-null    float64\n",
      " 5   рік збудови      706 non-null    float64\n",
      " 6   площа            706 non-null    float64\n",
      " 7   житлова площа    706 non-null    float64\n",
      " 8   кухня            706 non-null    float64\n",
      "dtypes: float64(9)\n",
      "memory usage: 55.2 KB\n"
     ]
    }
   ],
   "source": [
    "aprt.info()"
   ]
  },
  {
   "cell_type": "markdown",
   "metadata": {},
   "source": [
    "#### виявленя аномалій в даних"
   ]
  },
  {
   "cell_type": "code",
   "execution_count": 41,
   "metadata": {
    "scrolled": true
   },
   "outputs": [
    {
     "data": {
      "text/html": [
       "<div>\n",
       "<style scoped>\n",
       "    .dataframe tbody tr th:only-of-type {\n",
       "        vertical-align: middle;\n",
       "    }\n",
       "\n",
       "    .dataframe tbody tr th {\n",
       "        vertical-align: top;\n",
       "    }\n",
       "\n",
       "    .dataframe thead th {\n",
       "        text-align: right;\n",
       "    }\n",
       "</style>\n",
       "<table border=\"1\" class=\"dataframe\">\n",
       "  <thead>\n",
       "    <tr style=\"text-align: right;\">\n",
       "      <th></th>\n",
       "      <th>ціна</th>\n",
       "      <th>кімнат</th>\n",
       "      <th>ціна за метр</th>\n",
       "      <th>поверх</th>\n",
       "      <th>всього поверхів</th>\n",
       "      <th>рік збудови</th>\n",
       "      <th>площа</th>\n",
       "      <th>житлова площа</th>\n",
       "      <th>кухня</th>\n",
       "    </tr>\n",
       "  </thead>\n",
       "  <tbody>\n",
       "    <tr>\n",
       "      <th>count</th>\n",
       "      <td>706.0</td>\n",
       "      <td>706.0</td>\n",
       "      <td>706.0</td>\n",
       "      <td>706.0</td>\n",
       "      <td>706.0</td>\n",
       "      <td>706.0</td>\n",
       "      <td>706.0</td>\n",
       "      <td>706.0</td>\n",
       "      <td>706.0</td>\n",
       "    </tr>\n",
       "    <tr>\n",
       "      <th>mean</th>\n",
       "      <td>195986.3</td>\n",
       "      <td>2.2</td>\n",
       "      <td>2065.4</td>\n",
       "      <td>9.6</td>\n",
       "      <td>17.7</td>\n",
       "      <td>1999.8</td>\n",
       "      <td>78.4</td>\n",
       "      <td>40.7</td>\n",
       "      <td>15.4</td>\n",
       "    </tr>\n",
       "    <tr>\n",
       "      <th>std</th>\n",
       "      <td>681978.0</td>\n",
       "      <td>1.0</td>\n",
       "      <td>5964.7</td>\n",
       "      <td>6.9</td>\n",
       "      <td>8.4</td>\n",
       "      <td>24.4</td>\n",
       "      <td>47.5</td>\n",
       "      <td>25.8</td>\n",
       "      <td>8.7</td>\n",
       "    </tr>\n",
       "    <tr>\n",
       "      <th>min</th>\n",
       "      <td>29256.6</td>\n",
       "      <td>1.0</td>\n",
       "      <td>478.0</td>\n",
       "      <td>1.0</td>\n",
       "      <td>2.0</td>\n",
       "      <td>1860.0</td>\n",
       "      <td>25.0</td>\n",
       "      <td>10.0</td>\n",
       "      <td>3.0</td>\n",
       "    </tr>\n",
       "    <tr>\n",
       "      <th>25%</th>\n",
       "      <td>65000.0</td>\n",
       "      <td>1.0</td>\n",
       "      <td>1146.6</td>\n",
       "      <td>4.0</td>\n",
       "      <td>9.0</td>\n",
       "      <td>1994.0</td>\n",
       "      <td>53.0</td>\n",
       "      <td>30.0</td>\n",
       "      <td>11.0</td>\n",
       "    </tr>\n",
       "    <tr>\n",
       "      <th>50%</th>\n",
       "      <td>101250.0</td>\n",
       "      <td>2.0</td>\n",
       "      <td>1550.0</td>\n",
       "      <td>8.0</td>\n",
       "      <td>19.0</td>\n",
       "      <td>2010.0</td>\n",
       "      <td>69.0</td>\n",
       "      <td>37.0</td>\n",
       "      <td>14.0</td>\n",
       "    </tr>\n",
       "    <tr>\n",
       "      <th>75%</th>\n",
       "      <td>165750.0</td>\n",
       "      <td>3.0</td>\n",
       "      <td>2140.0</td>\n",
       "      <td>14.0</td>\n",
       "      <td>25.0</td>\n",
       "      <td>2015.0</td>\n",
       "      <td>89.0</td>\n",
       "      <td>44.0</td>\n",
       "      <td>16.0</td>\n",
       "    </tr>\n",
       "    <tr>\n",
       "      <th>max</th>\n",
       "      <td>15700000.0</td>\n",
       "      <td>7.0</td>\n",
       "      <td>157000.0</td>\n",
       "      <td>33.0</td>\n",
       "      <td>47.0</td>\n",
       "      <td>2021.0</td>\n",
       "      <td>520.0</td>\n",
       "      <td>320.0</td>\n",
       "      <td>78.0</td>\n",
       "    </tr>\n",
       "  </tbody>\n",
       "</table>\n",
       "</div>"
      ],
      "text/plain": [
       "            ціна  кімнат  ціна за метр  поверх  всього поверхів  рік збудови  \\\n",
       "count      706.0   706.0         706.0   706.0            706.0        706.0   \n",
       "mean    195986.3     2.2        2065.4     9.6             17.7       1999.8   \n",
       "std     681978.0     1.0        5964.7     6.9              8.4         24.4   \n",
       "min      29256.6     1.0         478.0     1.0              2.0       1860.0   \n",
       "25%      65000.0     1.0        1146.6     4.0              9.0       1994.0   \n",
       "50%     101250.0     2.0        1550.0     8.0             19.0       2010.0   \n",
       "75%     165750.0     3.0        2140.0    14.0             25.0       2015.0   \n",
       "max   15700000.0     7.0      157000.0    33.0             47.0       2021.0   \n",
       "\n",
       "       площа  житлова площа  кухня  \n",
       "count  706.0          706.0  706.0  \n",
       "mean    78.4           40.7   15.4  \n",
       "std     47.5           25.8    8.7  \n",
       "min     25.0           10.0    3.0  \n",
       "25%     53.0           30.0   11.0  \n",
       "50%     69.0           37.0   14.0  \n",
       "75%     89.0           44.0   16.0  \n",
       "max    520.0          320.0   78.0  "
      ]
     },
     "execution_count": 41,
     "metadata": {},
     "output_type": "execute_result"
    }
   ],
   "source": [
    "# аналітични метод\n",
    "aprt.describe()"
   ]
  },
  {
   "cell_type": "code",
   "execution_count": 42,
   "metadata": {},
   "outputs": [],
   "source": [
    "# графічний метод\n",
    "import matplotlib.pyplot as plt"
   ]
  },
  {
   "cell_type": "code",
   "execution_count": 45,
   "metadata": {
    "scrolled": true
   },
   "outputs": [
    {
     "data": {
      "image/png": "[encoded data removed]",
      "text/plain": [
       "<Figure size 432x288 with 1 Axes>"
      ]
     },
     "metadata": {
      "needs_background": "light"
     },
     "output_type": "display_data"
    }
   ],
   "source": [
    "# plt.figure(figsize=(7,7))\n",
    "plt.plot(aprt['кухня'], '.')\n",
    "plt.title('пошук аномалій в показчику')\n",
    "plt.xlabel('рядки датасету')\n",
    "plt.ylabel('м2')\n",
    "plt.show()"
   ]
  },
  {
   "cell_type": "code",
   "execution_count": null,
   "metadata": {
    "scrolled": true
   },
   "outputs": [],
   "source": [
    "aprt.head()"
   ]
  },
  {
   "cell_type": "code",
   "execution_count": 46,
   "metadata": {
    "code_folding": []
   },
   "outputs": [
    {
     "data": {
      "image/png": "[encoded data removed]",
      "text/plain": [
       "<Figure size 1080x1080 with 9 Axes>"
      ]
     },
     "metadata": {
      "needs_background": "light"
     },
     "output_type": "display_data"
    }
   ],
   "source": [
    "# загальна аналітика аномалій по датасету\n",
    "fig, axs = plt.subplots(3,3, figsize=(15,15))\n",
    "\n",
    "for ax, name in list(zip(axs.reshape(9,), aprt.columns)):\n",
    "    ax.set_title(name)\n",
    "\n",
    "axs[0,0].plot(aprt['ціна'], '.')\n",
    "axs[0,1].plot(aprt['кімнат'], '.')\n",
    "axs[0,2].plot(aprt['ціна за метр'], '.')\n",
    "\n",
    "axs[1,0].plot(aprt['поверх'], '.')\n",
    "axs[1,1].plot(aprt['всього поверхів'], '.')\n",
    "axs[1,2].plot(aprt['рік збудови'], '.')\n",
    "\n",
    "axs[2,0].plot(aprt['площа'], '.')\n",
    "axs[2,1].plot(aprt['житлова площа'], '.')\n",
    "axs[2,2].plot(aprt['кухня'], '.')\n",
    "\n",
    "plt.show()\n"
   ]
  },
  {
   "cell_type": "code",
   "execution_count": 47,
   "metadata": {
    "scrolled": true
   },
   "outputs": [
    {
     "data": {
      "text/html": [
       "<div>\n",
       "<style scoped>\n",
       "    .dataframe tbody tr th:only-of-type {\n",
       "        vertical-align: middle;\n",
       "    }\n",
       "\n",
       "    .dataframe tbody tr th {\n",
       "        vertical-align: top;\n",
       "    }\n",
       "\n",
       "    .dataframe thead th {\n",
       "        text-align: right;\n",
       "    }\n",
       "</style>\n",
       "<table border=\"1\" class=\"dataframe\">\n",
       "  <thead>\n",
       "    <tr style=\"text-align: right;\">\n",
       "      <th></th>\n",
       "      <th>ціна</th>\n",
       "      <th>кімнат</th>\n",
       "      <th>ціна за метр</th>\n",
       "      <th>поверх</th>\n",
       "      <th>всього поверхів</th>\n",
       "      <th>рік збудови</th>\n",
       "      <th>площа</th>\n",
       "      <th>житлова площа</th>\n",
       "      <th>кухня</th>\n",
       "    </tr>\n",
       "  </thead>\n",
       "  <tbody>\n",
       "    <tr>\n",
       "      <th>529</th>\n",
       "      <td>15700000.0</td>\n",
       "      <td>3.0</td>\n",
       "      <td>157000.0</td>\n",
       "      <td>2.0</td>\n",
       "      <td>4.0</td>\n",
       "      <td>1917.0</td>\n",
       "      <td>100.0</td>\n",
       "      <td>76.0</td>\n",
       "      <td>12.0</td>\n",
       "    </tr>\n",
       "  </tbody>\n",
       "</table>\n",
       "</div>"
      ],
      "text/plain": [
       "          ціна  кімнат  ціна за метр  поверх  всього поверхів  рік збудови  \\\n",
       "529 15700000.0     3.0      157000.0     2.0              4.0       1917.0   \n",
       "\n",
       "     площа  житлова площа  кухня  \n",
       "529  100.0           76.0   12.0  "
      ]
     },
     "execution_count": 47,
     "metadata": {},
     "output_type": "execute_result"
    }
   ],
   "source": [
    "aprt[aprt['ціна'] == 15700000.0]"
   ]
  },
  {
   "cell_type": "code",
   "execution_count": 48,
   "metadata": {
    "scrolled": true
   },
   "outputs": [
    {
     "data": {
      "text/html": [
       "<div>\n",
       "<style scoped>\n",
       "    .dataframe tbody tr th:only-of-type {\n",
       "        vertical-align: middle;\n",
       "    }\n",
       "\n",
       "    .dataframe tbody tr th {\n",
       "        vertical-align: top;\n",
       "    }\n",
       "\n",
       "    .dataframe thead th {\n",
       "        text-align: right;\n",
       "    }\n",
       "</style>\n",
       "<table border=\"1\" class=\"dataframe\">\n",
       "  <thead>\n",
       "    <tr style=\"text-align: right;\">\n",
       "      <th></th>\n",
       "      <th>ціна</th>\n",
       "      <th>кімнат</th>\n",
       "      <th>ціна за метр</th>\n",
       "      <th>поверх</th>\n",
       "      <th>всього поверхів</th>\n",
       "      <th>рік збудови</th>\n",
       "      <th>площа</th>\n",
       "      <th>житлова площа</th>\n",
       "      <th>кухня</th>\n",
       "    </tr>\n",
       "  </thead>\n",
       "  <tbody>\n",
       "    <tr>\n",
       "      <th>365</th>\n",
       "      <td>1035900.0</td>\n",
       "      <td>5.0</td>\n",
       "      <td>4504.0</td>\n",
       "      <td>4.0</td>\n",
       "      <td>8.0</td>\n",
       "      <td>2016.0</td>\n",
       "      <td>230.0</td>\n",
       "      <td>75.0</td>\n",
       "      <td>78.0</td>\n",
       "    </tr>\n",
       "  </tbody>\n",
       "</table>\n",
       "</div>"
      ],
      "text/plain": [
       "         ціна  кімнат  ціна за метр  поверх  всього поверхів  рік збудови  \\\n",
       "365 1035900.0     5.0        4504.0     4.0              8.0       2016.0   \n",
       "\n",
       "     площа  житлова площа  кухня  \n",
       "365  230.0           75.0   78.0  "
      ]
     },
     "execution_count": 48,
     "metadata": {},
     "output_type": "execute_result"
    }
   ],
   "source": [
    "aprt[aprt['кухня'] == 78]"
   ]
  },
  {
   "cell_type": "markdown",
   "metadata": {
    "heading_collapsed": true
   },
   "source": [
    "### ІНДИВІДУАЛЬНЕ ЗАВДАННЯ"
   ]
  },
  {
   "cell_type": "markdown",
   "metadata": {
    "hidden": true
   },
   "source": [
    "Користуючись результатами, що отримані в [Лабораторній роботі № 3](https://shkliarskiy.moodlecloud.com/mod/page/view.php?id=1193) поліпшити якість показчика .\n",
    "\n",
    "__Постановка__: В 3-й лабораторній роботі отримано показчик, що характеризує окрему властивість квартири (ціна, метраж та ін.). \n",
    "Необхідно:\n",
    "1. Перетворити тип показчика в той, який придатний для чисельного аналізу\n",
    "2. Оцінити ступінь \"разрядженності\" показчика та вибрати стратегію його відновлення\n",
    "3. Відновити пропущені значення прказчика\n",
    "4. Виявити аномальні значення та дати їм графічну інтерпретацію\n"
   ]
  },
  {
   "cell_type": "code",
   "execution_count": 54,
   "metadata": {
    "hidden": true,
    "run_control": {
     "marked": true
    }
   },
   "outputs": [],
   "source": [
    "# імпортувати бібліотеки Pandas, Matplotlib, Numpy\n",
    "import pandas as pd\n",
    "import numpy as np\n",
    "import matplotlib\n",
    "import matplotlib.pyplot as plt"
   ]
  },
  {
   "cell_type": "code",
   "execution_count": 55,
   "metadata": {
    "hidden": true,
    "run_control": {
     "marked": true
    }
   },
   "outputs": [],
   "source": [
    "# створити датасет з вашим показчиком з файлу 'aprt_properties.csv'\n",
    "aprt_ds = pd.read_csv('aprt_properties.csv', \n",
    "                    usecols=['ціна', \n",
    "                           'кімнат', \n",
    "                           'ціна за метр',\n",
    "                           'поверх',\n",
    "                           'всього поверхів',\n",
    "                           'рік збудови',\n",
    "                           'площа',\n",
    "                           'житлова площа',\n",
    "                           'кухня',\n",
    "                           'вулиця',\n",
    "                           'дата пропозиції'],\n",
    "                    names=['ціна', \n",
    "                           'кімнат', \n",
    "                           'ціна за метр',\n",
    "                           'поверх',\n",
    "                           'всього поверхів',\n",
    "                           'рік збудови',\n",
    "                           'площа',\n",
    "                           'житлова площа',\n",
    "                           'кухня',\n",
    "                           'вулиця',\n",
    "                           'дата пропозиції'])\n",
    "\n"
   ]
  },
  {
   "cell_type": "code",
   "execution_count": 56,
   "metadata": {
    "hidden": true,
    "run_control": {
     "marked": true
    }
   },
   "outputs": [
    {
     "data": {
      "text/html": [
       "<div>\n",
       "<style scoped>\n",
       "    .dataframe tbody tr th:only-of-type {\n",
       "        vertical-align: middle;\n",
       "    }\n",
       "\n",
       "    .dataframe tbody tr th {\n",
       "        vertical-align: top;\n",
       "    }\n",
       "\n",
       "    .dataframe thead th {\n",
       "        text-align: right;\n",
       "    }\n",
       "</style>\n",
       "<table border=\"1\" class=\"dataframe\">\n",
       "  <thead>\n",
       "    <tr style=\"text-align: right;\">\n",
       "      <th></th>\n",
       "      <th>ціна</th>\n",
       "      <th>кімнат</th>\n",
       "      <th>ціна за метр</th>\n",
       "      <th>поверх</th>\n",
       "      <th>всього поверхів</th>\n",
       "      <th>рік збудови</th>\n",
       "      <th>площа</th>\n",
       "      <th>житлова площа</th>\n",
       "      <th>кухня</th>\n",
       "      <th>вулиця</th>\n",
       "      <th>дата пропозиції</th>\n",
       "    </tr>\n",
       "  </thead>\n",
       "  <tbody>\n",
       "    <tr>\n",
       "      <th>0</th>\n",
       "      <td>140000.0</td>\n",
       "      <td>2</td>\n",
       "      <td>2258.0</td>\n",
       "      <td>7</td>\n",
       "      <td>9</td>\n",
       "      <td>1969</td>\n",
       "      <td>62.0</td>\n",
       "      <td>47.0</td>\n",
       "      <td>9.0</td>\n",
       "      <td>Омеляновича-Павленка</td>\n",
       "      <td>3 вересня 2020 р.</td>\n",
       "    </tr>\n",
       "    <tr>\n",
       "      <th>1</th>\n",
       "      <td>105000.0</td>\n",
       "      <td>4</td>\n",
       "      <td>847.0</td>\n",
       "      <td>25</td>\n",
       "      <td>26</td>\n",
       "      <td>2018</td>\n",
       "      <td>124.0</td>\n",
       "      <td>71.0</td>\n",
       "      <td>16.0</td>\n",
       "      <td></td>\n",
       "      <td>7 жовтня 2020 р.</td>\n",
       "    </tr>\n",
       "    <tr>\n",
       "      <th>2</th>\n",
       "      <td>175000.0</td>\n",
       "      <td>3</td>\n",
       "      <td>1786.0</td>\n",
       "      <td>25</td>\n",
       "      <td>26</td>\n",
       "      <td>2010</td>\n",
       "      <td>98.0</td>\n",
       "      <td>None</td>\n",
       "      <td>None</td>\n",
       "      <td>Ованеса Туманяна</td>\n",
       "      <td>1 жовтня 2020 р.</td>\n",
       "    </tr>\n",
       "    <tr>\n",
       "      <th>3</th>\n",
       "      <td>30970.0</td>\n",
       "      <td>1</td>\n",
       "      <td>1106.0</td>\n",
       "      <td>12</td>\n",
       "      <td>13</td>\n",
       "      <td>2013</td>\n",
       "      <td>28.0</td>\n",
       "      <td>13.0</td>\n",
       "      <td>5.0</td>\n",
       "      <td>Петропавлівська</td>\n",
       "      <td>1 лютого</td>\n",
       "    </tr>\n",
       "    <tr>\n",
       "      <th>4</th>\n",
       "      <td>82000.0</td>\n",
       "      <td>2</td>\n",
       "      <td>1281.0</td>\n",
       "      <td>18</td>\n",
       "      <td>26</td>\n",
       "      <td>None</td>\n",
       "      <td>64.0</td>\n",
       "      <td>None</td>\n",
       "      <td>None</td>\n",
       "      <td>Дніпровська</td>\n",
       "      <td>*** not found</td>\n",
       "    </tr>\n",
       "    <tr>\n",
       "      <th>5</th>\n",
       "      <td>168535.7</td>\n",
       "      <td>3</td>\n",
       "      <td>1872.6</td>\n",
       "      <td>4</td>\n",
       "      <td>9</td>\n",
       "      <td>1966</td>\n",
       "      <td>90.0</td>\n",
       "      <td>45.0</td>\n",
       "      <td>10.0</td>\n",
       "      <td>Саксаганського</td>\n",
       "      <td>28 жовтня 2020 р.</td>\n",
       "    </tr>\n",
       "    <tr>\n",
       "      <th>6</th>\n",
       "      <td>4500000.0</td>\n",
       "      <td>4</td>\n",
       "      <td>14610.0</td>\n",
       "      <td>18</td>\n",
       "      <td>21</td>\n",
       "      <td>2011</td>\n",
       "      <td>308.0</td>\n",
       "      <td>None</td>\n",
       "      <td>None</td>\n",
       "      <td>Івана Мазепи</td>\n",
       "      <td>19 жовтня 2020 р.</td>\n",
       "    </tr>\n",
       "    <tr>\n",
       "      <th>7</th>\n",
       "      <td>135000.0</td>\n",
       "      <td>2</td>\n",
       "      <td>2077.0</td>\n",
       "      <td>16</td>\n",
       "      <td>23</td>\n",
       "      <td>2012</td>\n",
       "      <td>65.0</td>\n",
       "      <td>25.0</td>\n",
       "      <td>18.0</td>\n",
       "      <td>Дніпровська</td>\n",
       "      <td>1 вересня 2020 р.</td>\n",
       "    </tr>\n",
       "    <tr>\n",
       "      <th>8</th>\n",
       "      <td>120000.0</td>\n",
       "      <td>1</td>\n",
       "      <td>2500.0</td>\n",
       "      <td>8</td>\n",
       "      <td>25</td>\n",
       "      <td>2012</td>\n",
       "      <td>48.0</td>\n",
       "      <td>18.0</td>\n",
       "      <td>16.0</td>\n",
       "      <td>Ділова</td>\n",
       "      <td>12 жовтня 2020 р.</td>\n",
       "    </tr>\n",
       "    <tr>\n",
       "      <th>9</th>\n",
       "      <td>57500.0</td>\n",
       "      <td>3</td>\n",
       "      <td>625.0</td>\n",
       "      <td>9</td>\n",
       "      <td>9</td>\n",
       "      <td>1970</td>\n",
       "      <td>92.0</td>\n",
       "      <td>None</td>\n",
       "      <td>None</td>\n",
       "      <td>Новодарницька</td>\n",
       "      <td>5 жовтня 2020 р.</td>\n",
       "    </tr>\n",
       "  </tbody>\n",
       "</table>\n",
       "</div>"
      ],
      "text/plain": [
       "        ціна кімнат ціна за метр поверх всього поверхів рік збудови  площа  \\\n",
       "0   140000.0      2       2258.0      7               9        1969   62.0   \n",
       "1   105000.0      4        847.0     25              26        2018  124.0   \n",
       "2   175000.0      3       1786.0     25              26        2010   98.0   \n",
       "3    30970.0      1       1106.0     12              13        2013   28.0   \n",
       "4    82000.0      2       1281.0     18              26        None   64.0   \n",
       "5   168535.7      3       1872.6      4               9        1966   90.0   \n",
       "6  4500000.0      4      14610.0     18              21        2011  308.0   \n",
       "7   135000.0      2       2077.0     16              23        2012   65.0   \n",
       "8   120000.0      1       2500.0      8              25        2012   48.0   \n",
       "9    57500.0      3        625.0      9               9        1970   92.0   \n",
       "\n",
       "  житлова площа кухня                 вулиця    дата пропозиції  \n",
       "0          47.0   9.0   Омеляновича-Павленка  3 вересня 2020 р.  \n",
       "1          71.0  16.0                          7 жовтня 2020 р.  \n",
       "2          None  None       Ованеса Туманяна   1 жовтня 2020 р.  \n",
       "3          13.0   5.0        Петропавлівська           1 лютого  \n",
       "4          None  None            Дніпровська      *** not found  \n",
       "5          45.0  10.0         Саксаганського  28 жовтня 2020 р.  \n",
       "6          None  None           Івана Мазепи  19 жовтня 2020 р.  \n",
       "7          25.0  18.0            Дніпровська  1 вересня 2020 р.  \n",
       "8          18.0  16.0                 Ділова  12 жовтня 2020 р.  \n",
       "9          None  None          Новодарницька   5 жовтня 2020 р.  "
      ]
     },
     "execution_count": 56,
     "metadata": {},
     "output_type": "execute_result"
    }
   ],
   "source": [
    "# вивести перші десять рядків датасету\n",
    "aprt_ds.head(10)"
   ]
  },
  {
   "cell_type": "code",
   "execution_count": 57,
   "metadata": {
    "hidden": true,
    "run_control": {
     "marked": true
    }
   },
   "outputs": [
    {
     "name": "stdout",
     "output_type": "stream",
     "text": [
      "<class 'pandas.core.frame.DataFrame'>\n",
      "RangeIndex: 728 entries, 0 to 727\n",
      "Data columns (total 11 columns):\n",
      " #   Column           Non-Null Count  Dtype  \n",
      "---  ------           --------------  -----  \n",
      " 0   ціна             728 non-null    float64\n",
      " 1   кімнат           728 non-null    object \n",
      " 2   ціна за метр     728 non-null    object \n",
      " 3   поверх           728 non-null    object \n",
      " 4   всього поверхів  728 non-null    object \n",
      " 5   рік збудови      728 non-null    object \n",
      " 6   площа            728 non-null    object \n",
      " 7   житлова площа    728 non-null    object \n",
      " 8   кухня            728 non-null    object \n",
      " 9   вулиця           728 non-null    object \n",
      " 10  дата пропозиції  728 non-null    object \n",
      "dtypes: float64(1), object(10)\n",
      "memory usage: 62.7+ KB\n"
     ]
    },
    {
     "data": {
      "text/plain": [
       "Index(['ціна', 'кімнат', 'ціна за метр', 'поверх', 'всього поверхів',\n",
       "       'рік збудови', 'площа', 'житлова площа', 'кухня', 'вулиця',\n",
       "       'дата пропозиції'],\n",
       "      dtype='object')"
      ]
     },
     "execution_count": 57,
     "metadata": {},
     "output_type": "execute_result"
    }
   ],
   "source": [
    "# вивести загальну інформацію про датасет\n",
    "aprt_ds.info()\n",
    "aprt_ds.columns"
   ]
  },
  {
   "cell_type": "code",
   "execution_count": 58,
   "metadata": {
    "code_folding": [],
    "hidden": true,
    "run_control": {
     "marked": true
    }
   },
   "outputs": [
    {
     "name": "stdout",
     "output_type": "stream",
     "text": [
      "<class 'pandas.core.frame.DataFrame'>\n",
      "RangeIndex: 728 entries, 0 to 727\n",
      "Data columns (total 9 columns):\n",
      " #   Column           Non-Null Count  Dtype  \n",
      "---  ------           --------------  -----  \n",
      " 0   ціна             728 non-null    float64\n",
      " 1   кімнат           724 non-null    float64\n",
      " 2   ціна за метр     723 non-null    float64\n",
      " 3   поверх           703 non-null    float64\n",
      " 4   всього поверхів  703 non-null    float64\n",
      " 5   рік збудови      540 non-null    float64\n",
      " 6   площа            640 non-null    float64\n",
      " 7   житлова площа    497 non-null    float64\n",
      " 8   кухня            524 non-null    float64\n",
      "dtypes: float64(9)\n",
      "memory usage: 51.3 KB\n"
     ]
    },
    {
     "data": {
      "text/html": [
       "<div>\n",
       "<style scoped>\n",
       "    .dataframe tbody tr th:only-of-type {\n",
       "        vertical-align: middle;\n",
       "    }\n",
       "\n",
       "    .dataframe tbody tr th {\n",
       "        vertical-align: top;\n",
       "    }\n",
       "\n",
       "    .dataframe thead th {\n",
       "        text-align: right;\n",
       "    }\n",
       "</style>\n",
       "<table border=\"1\" class=\"dataframe\">\n",
       "  <thead>\n",
       "    <tr style=\"text-align: right;\">\n",
       "      <th></th>\n",
       "      <th>ціна</th>\n",
       "      <th>кімнат</th>\n",
       "      <th>ціна за метр</th>\n",
       "      <th>поверх</th>\n",
       "      <th>всього поверхів</th>\n",
       "      <th>рік збудови</th>\n",
       "      <th>площа</th>\n",
       "      <th>житлова площа</th>\n",
       "      <th>кухня</th>\n",
       "    </tr>\n",
       "  </thead>\n",
       "  <tbody>\n",
       "    <tr>\n",
       "      <th>count</th>\n",
       "      <td>7.280000e+02</td>\n",
       "      <td>724.000000</td>\n",
       "      <td>723.000000</td>\n",
       "      <td>703.000000</td>\n",
       "      <td>703.000000</td>\n",
       "      <td>540.000000</td>\n",
       "      <td>640.000000</td>\n",
       "      <td>497.000000</td>\n",
       "      <td>524.000000</td>\n",
       "    </tr>\n",
       "    <tr>\n",
       "      <th>mean</th>\n",
       "      <td>2.001384e+05</td>\n",
       "      <td>2.226519</td>\n",
       "      <td>2090.259059</td>\n",
       "      <td>9.631579</td>\n",
       "      <td>17.695590</td>\n",
       "      <td>1996.662963</td>\n",
       "      <td>79.928125</td>\n",
       "      <td>42.301811</td>\n",
       "      <td>15.881679</td>\n",
       "    </tr>\n",
       "    <tr>\n",
       "      <th>std</th>\n",
       "      <td>6.748939e+05</td>\n",
       "      <td>1.027190</td>\n",
       "      <td>5900.910584</td>\n",
       "      <td>6.931243</td>\n",
       "      <td>8.458113</td>\n",
       "      <td>27.125786</td>\n",
       "      <td>51.143278</td>\n",
       "      <td>30.571793</td>\n",
       "      <td>10.043182</td>\n",
       "    </tr>\n",
       "    <tr>\n",
       "      <th>min</th>\n",
       "      <td>1.009210e+04</td>\n",
       "      <td>1.000000</td>\n",
       "      <td>478.000000</td>\n",
       "      <td>1.000000</td>\n",
       "      <td>2.000000</td>\n",
       "      <td>1860.000000</td>\n",
       "      <td>15.000000</td>\n",
       "      <td>10.000000</td>\n",
       "      <td>3.000000</td>\n",
       "    </tr>\n",
       "    <tr>\n",
       "      <th>25%</th>\n",
       "      <td>6.500000e+04</td>\n",
       "      <td>1.000000</td>\n",
       "      <td>1147.000000</td>\n",
       "      <td>4.000000</td>\n",
       "      <td>9.000000</td>\n",
       "      <td>1977.000000</td>\n",
       "      <td>50.000000</td>\n",
       "      <td>25.000000</td>\n",
       "      <td>10.000000</td>\n",
       "    </tr>\n",
       "    <tr>\n",
       "      <th>50%</th>\n",
       "      <td>1.039500e+05</td>\n",
       "      <td>2.000000</td>\n",
       "      <td>1562.000000</td>\n",
       "      <td>8.000000</td>\n",
       "      <td>19.000000</td>\n",
       "      <td>2010.000000</td>\n",
       "      <td>68.500000</td>\n",
       "      <td>37.000000</td>\n",
       "      <td>14.000000</td>\n",
       "    </tr>\n",
       "    <tr>\n",
       "      <th>75%</th>\n",
       "      <td>1.700000e+05</td>\n",
       "      <td>3.000000</td>\n",
       "      <td>2188.000000</td>\n",
       "      <td>14.000000</td>\n",
       "      <td>25.000000</td>\n",
       "      <td>2016.000000</td>\n",
       "      <td>92.250000</td>\n",
       "      <td>50.000000</td>\n",
       "      <td>18.000000</td>\n",
       "    </tr>\n",
       "    <tr>\n",
       "      <th>max</th>\n",
       "      <td>1.570000e+07</td>\n",
       "      <td>7.000000</td>\n",
       "      <td>157000.000000</td>\n",
       "      <td>33.000000</td>\n",
       "      <td>47.000000</td>\n",
       "      <td>2021.000000</td>\n",
       "      <td>520.000000</td>\n",
       "      <td>320.000000</td>\n",
       "      <td>78.000000</td>\n",
       "    </tr>\n",
       "  </tbody>\n",
       "</table>\n",
       "</div>"
      ],
      "text/plain": [
       "               ціна      кімнат   ціна за метр      поверх  всього поверхів  \\\n",
       "count  7.280000e+02  724.000000     723.000000  703.000000       703.000000   \n",
       "mean   2.001384e+05    2.226519    2090.259059    9.631579        17.695590   \n",
       "std    6.748939e+05    1.027190    5900.910584    6.931243         8.458113   \n",
       "min    1.009210e+04    1.000000     478.000000    1.000000         2.000000   \n",
       "25%    6.500000e+04    1.000000    1147.000000    4.000000         9.000000   \n",
       "50%    1.039500e+05    2.000000    1562.000000    8.000000        19.000000   \n",
       "75%    1.700000e+05    3.000000    2188.000000   14.000000        25.000000   \n",
       "max    1.570000e+07    7.000000  157000.000000   33.000000        47.000000   \n",
       "\n",
       "       рік збудови       площа  житлова площа       кухня  \n",
       "count   540.000000  640.000000     497.000000  524.000000  \n",
       "mean   1996.662963   79.928125      42.301811   15.881679  \n",
       "std      27.125786   51.143278      30.571793   10.043182  \n",
       "min    1860.000000   15.000000      10.000000    3.000000  \n",
       "25%    1977.000000   50.000000      25.000000   10.000000  \n",
       "50%    2010.000000   68.500000      37.000000   14.000000  \n",
       "75%    2016.000000   92.250000      50.000000   18.000000  \n",
       "max    2021.000000  520.000000     320.000000   78.000000  "
      ]
     },
     "execution_count": 58,
     "metadata": {},
     "output_type": "execute_result"
    }
   ],
   "source": [
    "# перетворити тип даних в показчику на чисельний\n",
    "aprt_ds.drop(columns=['вулиця','дата пропозиції'], inplace=True)\n",
    "\n",
    "for prop in aprt_ds.columns:\n",
    "    aprt_ds[prop] = pd.to_numeric(aprt_ds[prop], errors='coerce')\n",
    "    \n",
    "aprt_ds.head(5)\n",
    "    \n",
    "aprt_ds.info()\n",
    "aprt_ds.describe()"
   ]
  },
  {
   "cell_type": "code",
   "execution_count": 59,
   "metadata": {
    "code_folding": [],
    "hidden": true,
    "run_control": {
     "marked": true
    }
   },
   "outputs": [
    {
     "name": "stdout",
     "output_type": "stream",
     "text": [
      "<class 'pandas.core.frame.DataFrame'>\n",
      "RangeIndex: 728 entries, 0 to 727\n",
      "Data columns (total 9 columns):\n",
      " #   Column           Non-Null Count  Dtype  \n",
      "---  ------           --------------  -----  \n",
      " 0   ціна             728 non-null    float64\n",
      " 1   кімнат           724 non-null    float64\n",
      " 2   ціна за метр     723 non-null    float64\n",
      " 3   поверх           703 non-null    float64\n",
      " 4   всього поверхів  703 non-null    float64\n",
      " 5   рік збудови      540 non-null    float64\n",
      " 6   площа            640 non-null    float64\n",
      " 7   житлова площа    497 non-null    float64\n",
      " 8   кухня            524 non-null    float64\n",
      "dtypes: float64(9)\n",
      "memory usage: 51.3 KB\n"
     ]
    },
    {
     "data": {
      "image/png": "[encoded data removed]",
      "text/plain": [
       "<Figure size 640x480 with 1 Axes>"
      ]
     },
     "metadata": {},
     "output_type": "display_data"
    },
    {
     "name": "stdout",
     "output_type": "stream",
     "text": [
      "<class 'pandas.core.frame.DataFrame'>\n",
      "Int64Index: 706 entries, 0 to 727\n",
      "Data columns (total 9 columns):\n",
      " #   Column           Non-Null Count  Dtype  \n",
      "---  ------           --------------  -----  \n",
      " 0   ціна             706 non-null    float64\n",
      " 1   кімнат           706 non-null    float64\n",
      " 2   ціна за метр     706 non-null    float64\n",
      " 3   поверх           706 non-null    float64\n",
      " 4   всього поверхів  706 non-null    float64\n",
      " 5   рік збудови      706 non-null    float64\n",
      " 6   площа            706 non-null    float64\n",
      " 7   житлова площа    706 non-null    float64\n",
      " 8   кухня            706 non-null    float64\n",
      "dtypes: float64(9)\n",
      "memory usage: 55.2 KB\n"
     ]
    }
   ],
   "source": [
    "# оцінити кількість та відновити дані, що відсутні \n",
    "aprt_ds.info()\n",
    "\n",
    "plt.bar(aprt_ds.columns, aprt_ds.count())\n",
    "plt.ylabel(\"кількість заповнених значень\")\n",
    "plt.xticks(rotation='vertical')\n",
    "plt.title('Графік не пустих значень')\n",
    "plt.show()\n",
    "\n",
    "missing_data_mask = aprt_ds.isna()\n",
    "missing_data_mask.head(5)\n",
    "\n",
    "missing_fruction = missing_data_mask.sum(axis=1)/len(aprt_ds.columns)\n",
    "len(missing_fruction)\n",
    "missing_fruction.head(10)\n",
    "\n",
    "aprt_ds.dropna(thresh=5, inplace=True)\n",
    "\n",
    "aprt_ds.mean(axis=0)\n",
    "aprt_ds.median(axis=0)\n",
    "\n",
    "pd.DataFrame(data={\"Mean\"      : aprt_ds.mean(axis=0),\n",
    "                   \"Median\"    : aprt_ds.median(axis=0),\n",
    "                   \"Std\"       : aprt_ds.std(axis=0),\n",
    "                   \"Mean - Std\": aprt_ds.mean(axis=0) - aprt_ds.std(axis=0)} )\n",
    "\n",
    "aprt_ds.fillna(aprt_ds.median(), axis=0, inplace=True)\n",
    "aprt_ds.info()"
   ]
  },
  {
   "cell_type": "code",
   "execution_count": 69,
   "metadata": {},
   "outputs": [
    {
     "data": {
      "text/html": [
       "<div>\n",
       "<style scoped>\n",
       "    .dataframe tbody tr th:only-of-type {\n",
       "        vertical-align: middle;\n",
       "    }\n",
       "\n",
       "    .dataframe tbody tr th {\n",
       "        vertical-align: top;\n",
       "    }\n",
       "\n",
       "    .dataframe thead th {\n",
       "        text-align: right;\n",
       "    }\n",
       "</style>\n",
       "<table border=\"1\" class=\"dataframe\">\n",
       "  <thead>\n",
       "    <tr style=\"text-align: right;\">\n",
       "      <th></th>\n",
       "      <th>ціна</th>\n",
       "      <th>кімнат</th>\n",
       "      <th>ціна за метр</th>\n",
       "      <th>поверх</th>\n",
       "      <th>всього поверхів</th>\n",
       "      <th>рік збудови</th>\n",
       "      <th>площа</th>\n",
       "      <th>житлова площа</th>\n",
       "      <th>кухня</th>\n",
       "    </tr>\n",
       "  </thead>\n",
       "  <tbody>\n",
       "    <tr>\n",
       "      <th>count</th>\n",
       "      <td>7.060000e+02</td>\n",
       "      <td>706.000000</td>\n",
       "      <td>706.000000</td>\n",
       "      <td>706.000000</td>\n",
       "      <td>706.000000</td>\n",
       "      <td>706.000000</td>\n",
       "      <td>706.000000</td>\n",
       "      <td>706.000000</td>\n",
       "      <td>706.000000</td>\n",
       "    </tr>\n",
       "    <tr>\n",
       "      <th>mean</th>\n",
       "      <td>1.959863e+05</td>\n",
       "      <td>2.226629</td>\n",
       "      <td>2065.383003</td>\n",
       "      <td>9.624646</td>\n",
       "      <td>17.701133</td>\n",
       "      <td>1999.811615</td>\n",
       "      <td>78.396601</td>\n",
       "      <td>40.732295</td>\n",
       "      <td>15.396601</td>\n",
       "    </tr>\n",
       "    <tr>\n",
       "      <th>std</th>\n",
       "      <td>6.819780e+05</td>\n",
       "      <td>1.013203</td>\n",
       "      <td>5964.741866</td>\n",
       "      <td>6.917296</td>\n",
       "      <td>8.440525</td>\n",
       "      <td>24.387183</td>\n",
       "      <td>47.540904</td>\n",
       "      <td>25.757032</td>\n",
       "      <td>8.689355</td>\n",
       "    </tr>\n",
       "    <tr>\n",
       "      <th>min</th>\n",
       "      <td>2.925660e+04</td>\n",
       "      <td>1.000000</td>\n",
       "      <td>478.000000</td>\n",
       "      <td>1.000000</td>\n",
       "      <td>2.000000</td>\n",
       "      <td>1860.000000</td>\n",
       "      <td>25.000000</td>\n",
       "      <td>10.000000</td>\n",
       "      <td>3.000000</td>\n",
       "    </tr>\n",
       "    <tr>\n",
       "      <th>25%</th>\n",
       "      <td>6.500000e+04</td>\n",
       "      <td>1.000000</td>\n",
       "      <td>1146.625000</td>\n",
       "      <td>4.000000</td>\n",
       "      <td>9.000000</td>\n",
       "      <td>1994.000000</td>\n",
       "      <td>53.000000</td>\n",
       "      <td>30.000000</td>\n",
       "      <td>11.000000</td>\n",
       "    </tr>\n",
       "    <tr>\n",
       "      <th>50%</th>\n",
       "      <td>1.012500e+05</td>\n",
       "      <td>2.000000</td>\n",
       "      <td>1550.000000</td>\n",
       "      <td>8.000000</td>\n",
       "      <td>19.000000</td>\n",
       "      <td>2010.000000</td>\n",
       "      <td>69.000000</td>\n",
       "      <td>37.000000</td>\n",
       "      <td>14.000000</td>\n",
       "    </tr>\n",
       "    <tr>\n",
       "      <th>75%</th>\n",
       "      <td>1.657500e+05</td>\n",
       "      <td>3.000000</td>\n",
       "      <td>2140.000000</td>\n",
       "      <td>14.000000</td>\n",
       "      <td>25.000000</td>\n",
       "      <td>2015.000000</td>\n",
       "      <td>89.000000</td>\n",
       "      <td>44.000000</td>\n",
       "      <td>16.000000</td>\n",
       "    </tr>\n",
       "    <tr>\n",
       "      <th>max</th>\n",
       "      <td>1.570000e+07</td>\n",
       "      <td>7.000000</td>\n",
       "      <td>157000.000000</td>\n",
       "      <td>33.000000</td>\n",
       "      <td>47.000000</td>\n",
       "      <td>2021.000000</td>\n",
       "      <td>520.000000</td>\n",
       "      <td>320.000000</td>\n",
       "      <td>78.000000</td>\n",
       "    </tr>\n",
       "  </tbody>\n",
       "</table>\n",
       "</div>"
      ],
      "text/plain": [
       "               ціна      кімнат   ціна за метр      поверх  всього поверхів  \\\n",
       "count  7.060000e+02  706.000000     706.000000  706.000000       706.000000   \n",
       "mean   1.959863e+05    2.226629    2065.383003    9.624646        17.701133   \n",
       "std    6.819780e+05    1.013203    5964.741866    6.917296         8.440525   \n",
       "min    2.925660e+04    1.000000     478.000000    1.000000         2.000000   \n",
       "25%    6.500000e+04    1.000000    1146.625000    4.000000         9.000000   \n",
       "50%    1.012500e+05    2.000000    1550.000000    8.000000        19.000000   \n",
       "75%    1.657500e+05    3.000000    2140.000000   14.000000        25.000000   \n",
       "max    1.570000e+07    7.000000  157000.000000   33.000000        47.000000   \n",
       "\n",
       "       рік збудови       площа  житлова площа       кухня  \n",
       "count   706.000000  706.000000     706.000000  706.000000  \n",
       "mean   1999.811615   78.396601      40.732295   15.396601  \n",
       "std      24.387183   47.540904      25.757032    8.689355  \n",
       "min    1860.000000   25.000000      10.000000    3.000000  \n",
       "25%    1994.000000   53.000000      30.000000   11.000000  \n",
       "50%    2010.000000   69.000000      37.000000   14.000000  \n",
       "75%    2015.000000   89.000000      44.000000   16.000000  \n",
       "max    2021.000000  520.000000     320.000000   78.000000  "
      ]
     },
     "execution_count": 69,
     "metadata": {},
     "output_type": "execute_result"
    }
   ],
   "source": [
    "aprt_ds.describe()"
   ]
  },
  {
   "cell_type": "code",
   "execution_count": 70,
   "metadata": {
    "code_folding": [],
    "hidden": true,
    "run_control": {
     "marked": true
    }
   },
   "outputs": [
    {
     "data": {
      "image/png": "[encoded data removed]",
      "text/plain": [
       "<Figure size 640x480 with 1 Axes>"
      ]
     },
     "metadata": {},
     "output_type": "display_data"
    },
    {
     "data": {
      "image/png": "[encoded data removed]",
      "text/plain": [
       "<Figure size 1500x1500 with 9 Axes>"
      ]
     },
     "metadata": {},
     "output_type": "display_data"
    }
   ],
   "source": [
    "# оцінити на графіку та аналітично аномалії в значенях вашого показчика \n",
    "plt.plot(aprt_ds['кухня'], '.')\n",
    "plt.title('пошук аномалій в показчику')\n",
    "plt.xlabel('рядки датасету')\n",
    "plt.ylabel('м2')\n",
    "plt.show()\n",
    "\n",
    "aprt_ds.head()\n",
    "\n",
    "fig, axs = plt.subplots(3,3, figsize=(15,15))\n",
    "\n",
    "for ax, name in list(zip(axs.reshape(9,), aprt_ds.columns)):\n",
    "    ax.set_title(name)\n",
    "\n",
    "axs[0,0].plot(aprt_ds['ціна'], '.')\n",
    "axs[0,1].plot(aprt_ds['кімнат'], '.')\n",
    "axs[0,2].plot(aprt_ds['ціна за метр'], '.')\n",
    "\n",
    "axs[1,0].plot(aprt_ds['поверх'], '.')\n",
    "axs[1,1].plot(aprt_ds['всього поверхів'], '.')\n",
    "axs[1,2].plot(aprt_ds['рік збудови'], '.')\n",
    "\n",
    "axs[2,0].plot(aprt_ds['площа'], '.')\n",
    "axs[2,1].plot(aprt_ds['житлова площа'], '.')\n",
    "axs[2,2].plot(aprt_ds['кухня'], '.')\n",
    "\n",
    "plt.show()"
   ]
  },
  {
   "cell_type": "code",
   "execution_count": 67,
   "metadata": {},
   "outputs": [
    {
     "data": {
      "text/html": [
       "<div>\n",
       "<style scoped>\n",
       "    .dataframe tbody tr th:only-of-type {\n",
       "        vertical-align: middle;\n",
       "    }\n",
       "\n",
       "    .dataframe tbody tr th {\n",
       "        vertical-align: top;\n",
       "    }\n",
       "\n",
       "    .dataframe thead th {\n",
       "        text-align: right;\n",
       "    }\n",
       "</style>\n",
       "<table border=\"1\" class=\"dataframe\">\n",
       "  <thead>\n",
       "    <tr style=\"text-align: right;\">\n",
       "      <th></th>\n",
       "      <th>ціна</th>\n",
       "      <th>кімнат</th>\n",
       "      <th>ціна за метр</th>\n",
       "      <th>поверх</th>\n",
       "      <th>всього поверхів</th>\n",
       "      <th>рік збудови</th>\n",
       "      <th>площа</th>\n",
       "      <th>житлова площа</th>\n",
       "      <th>кухня</th>\n",
       "    </tr>\n",
       "  </thead>\n",
       "  <tbody>\n",
       "    <tr>\n",
       "      <th>529</th>\n",
       "      <td>15700000.0</td>\n",
       "      <td>3.0</td>\n",
       "      <td>157000.0</td>\n",
       "      <td>2.0</td>\n",
       "      <td>4.0</td>\n",
       "      <td>1917.0</td>\n",
       "      <td>100.0</td>\n",
       "      <td>76.0</td>\n",
       "      <td>12.0</td>\n",
       "    </tr>\n",
       "  </tbody>\n",
       "</table>\n",
       "</div>"
      ],
      "text/plain": [
       "           ціна  кімнат  ціна за метр  поверх  всього поверхів  рік збудови  \\\n",
       "529  15700000.0     3.0      157000.0     2.0              4.0       1917.0   \n",
       "\n",
       "     площа  житлова площа  кухня  \n",
       "529  100.0           76.0   12.0  "
      ]
     },
     "execution_count": 67,
     "metadata": {},
     "output_type": "execute_result"
    }
   ],
   "source": [
    "aprt_ds[aprt_ds['ціна'] == 15700000.0]"
   ]
  },
  {
   "cell_type": "code",
   "execution_count": 68,
   "metadata": {},
   "outputs": [
    {
     "data": {
      "text/html": [
       "<div>\n",
       "<style scoped>\n",
       "    .dataframe tbody tr th:only-of-type {\n",
       "        vertical-align: middle;\n",
       "    }\n",
       "\n",
       "    .dataframe tbody tr th {\n",
       "        vertical-align: top;\n",
       "    }\n",
       "\n",
       "    .dataframe thead th {\n",
       "        text-align: right;\n",
       "    }\n",
       "</style>\n",
       "<table border=\"1\" class=\"dataframe\">\n",
       "  <thead>\n",
       "    <tr style=\"text-align: right;\">\n",
       "      <th></th>\n",
       "      <th>ціна</th>\n",
       "      <th>кімнат</th>\n",
       "      <th>ціна за метр</th>\n",
       "      <th>поверх</th>\n",
       "      <th>всього поверхів</th>\n",
       "      <th>рік збудови</th>\n",
       "      <th>площа</th>\n",
       "      <th>житлова площа</th>\n",
       "      <th>кухня</th>\n",
       "    </tr>\n",
       "  </thead>\n",
       "  <tbody>\n",
       "    <tr>\n",
       "      <th>365</th>\n",
       "      <td>1035900.0</td>\n",
       "      <td>5.0</td>\n",
       "      <td>4504.0</td>\n",
       "      <td>4.0</td>\n",
       "      <td>8.0</td>\n",
       "      <td>2016.0</td>\n",
       "      <td>230.0</td>\n",
       "      <td>75.0</td>\n",
       "      <td>78.0</td>\n",
       "    </tr>\n",
       "  </tbody>\n",
       "</table>\n",
       "</div>"
      ],
      "text/plain": [
       "          ціна  кімнат  ціна за метр  поверх  всього поверхів  рік збудови  \\\n",
       "365  1035900.0     5.0        4504.0     4.0              8.0       2016.0   \n",
       "\n",
       "     площа  житлова площа  кухня  \n",
       "365  230.0           75.0   78.0  "
      ]
     },
     "execution_count": 68,
     "metadata": {},
     "output_type": "execute_result"
    }
   ],
   "source": [
    "aprt_ds[aprt_ds['кухня'] == 78]"
   ]
  },
  {
   "cell_type": "code",
   "execution_count": null,
   "metadata": {},
   "outputs": [],
   "source": []
  }
 ],
 "metadata": {
  "kernelspec": {
   "display_name": "Python 3 (ipykernel)",
   "language": "python",
   "name": "python3"
  },
  "language_info": {
   "codemirror_mode": {
    "name": "ipython",
    "version": 3
   },
   "file_extension": ".py",
   "mimetype": "text/x-python",
   "name": "python",
   "nbconvert_exporter": "python",
   "pygments_lexer": "ipython3",
   "version": "3.9.13"
  },
  "varInspector": {
   "cols": {
    "lenName": 16,
    "lenType": 16,
    "lenVar": 40
   },
   "kernels_config": {
    "python": {
     "delete_cmd_postfix": "",
     "delete_cmd_prefix": "del ",
     "library": "var_list.py",
     "varRefreshCmd": "print(var_dic_list())"
    },
    "r": {
     "delete_cmd_postfix": ") ",
     "delete_cmd_prefix": "rm(",
     "library": "var_list.r",
     "varRefreshCmd": "cat(var_dic_list()) "
    }
   },
   "types_to_exclude": [
    "module",
    "function",
    "builtin_function_or_method",
    "instance",
    "_Feature"
   ],
   "window_display": false
  }
 },
 "nbformat": 4,
 "nbformat_minor": 2
}
