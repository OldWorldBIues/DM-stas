{
 "cells": [
  {
   "cell_type": "markdown",
   "metadata": {},
   "source": [
    "## ЕЛЕМЕНТИ DATA CLEANING "
   ]
  },
  {
   "cell_type": "markdown",
   "metadata": {},
   "source": [
    "### ВАРІАНТ № 8\n",
    "### Загальні положення"
   ]
  },
  {
   "cell_type": "markdown",
   "metadata": {},
   "source": [
    "__Мета__: \n",
    "- Опанувати деякі методи завантаження, видобутоку та очищення первинних даних\n",
    "- Застосувати на практиці набуті знання та навички програмування на Python, а саме:\n",
    "    - читання і запис даних у файли;\n",
    "    - організація циклічної оброобки даних (for .. in ..)\n",
    "    - реалізація умовної обробки (if .. elif .. else)\n",
    "    - використання методів і функцій стандартної бібліотеки Python\n",
    "\n",
    "__Вхідні дані__ : файл __aprts_data_raw.csv__, якій отримано з ресурсу _https://flatfy.lun.ua/продажа-квартир-киев_ шляхом його парсингу.\n",
    "\n",
    "Файл має наступну структуру:\n",
    "\n",
    "|    | Назва поля      | Очікуваний формат поля   |\n",
    "| -- | :-----------     | :-------------------------|\n",
    "|  1 | Ціна квартири (\\$ або грн)    | дробове                  |\n",
    "|  2 | Кількість кімнат | ціле\n",
    "|  3 | Ціна за м² (\\$ або грн)     | дробове\n",
    "|  4 | Поверх та всього поверхів | ціле\n",
    "| 5  | рік побудови   | ціле\n",
    "| 6  | тип будинку    | текст\n",
    "| 7  | Площа (загальна/житлова/кухні)| дробове\n",
    "| 8  | вулиця         | текст\n",
    "| 9  | номер дому     | текст\n",
    "\n",
    "__Особливі умови__: в первиних даних деякі показники можуть бути відстутні (не распарсені) - тоді вони позначаються `*** not found`"
   ]
  },
  {
   "cell_type": "markdown",
   "metadata": {},
   "source": [
    "### Теоретична частина та приклади"
   ]
  },
  {
   "cell_type": "markdown",
   "metadata": {},
   "source": [
    "Вхідний файл треба зчитувати і обробляти __порядково__ -  це гарна практика роботи з великими об\\`ємами даних.\n",
    "\n",
    "Дані, що зчитуються з файлів порядково представляються у текстовому (__str__) форматі, тому доцільно використовувати [функції обробки строкових даних](https://pythonworld.ru/tipy-dannyx-v-python/stroki-funkcii-i-metody-strok.html) python:"
   ]
  },
  {
   "cell_type": "code",
   "execution_count": 1,
   "metadata": {
    "code_folding": []
   },
   "outputs": [
    {
     "name": "stdout",
     "output_type": "stream",
     "text": [
      "Розподільник: ` `\n",
      "Вася Пупкін - студент 5 курсу ФІТ\n",
      "['Вася', 'Пупкін', '-', 'студент', '5', 'курсу', 'ФІТ']\n",
      "\n",
      "Розподільник: `-`\n",
      "Вася Пупкін - студент 5 курсу ФІТ\n",
      "['Вася Пупкін ', ' студент 5 курсу ФІТ']\n"
     ]
    }
   ],
   "source": [
    "# split() - дозволяє розділити текстову строку на окремі поля і помістити їх в список\n",
    "\n",
    "stroka = \"Вася Пупкін - студент 5 курсу ФІТ\"\n",
    "print(\"Розподільник: ` `\")\n",
    "print (stroka)\n",
    "list_from_stroka = stroka.split()\n",
    "print(list_from_stroka, end='\\n\\n')\n",
    "\n",
    "# якщо в якості аргумента split вказати розподільник, \n",
    "# то він буде використаний при побудові списка\n",
    "list_from_stroka = stroka.split('-')\n",
    "print(\"Розподільник: `-`\")\n",
    "print (stroka)\n",
    "print(list_from_stroka)"
   ]
  },
  {
   "cell_type": "markdown",
   "metadata": {},
   "source": [
    "__Примітка:__ файли в csv-форматі мають в якості розподільника, як правило, символ `,`"
   ]
  },
  {
   "cell_type": "code",
   "execution_count": 2,
   "metadata": {
    "code_folding": [],
    "run_control": {
     "marked": false
    }
   },
   "outputs": [
    {
     "name": "stdout",
     "output_type": "stream",
     "text": [
      "     Вася Пупкін - студент 5 курсу ФІТ   \n",
      "Вася Пупкін - студент 5 курсу ФІТ\n",
      "Вася Пупкін - студент 5 курсу \n"
     ]
    }
   ],
   "source": [
    "# за допомогою метода strip() є можливість \"обрізати\" зліва та справа пробіли \n",
    "# (якщо параметер не вказано), або символи, які вказані в якостиі параметрів:\n",
    "\n",
    "stroka = \"     Вася Пупкін - студент 5 курсу ФІТ   \"\n",
    "striped_stroka = stroka.strip()\n",
    "print(stroka)\n",
    "print(striped_stroka)\n",
    "print(striped_stroka.strip('ФІТ'))\n"
   ]
  },
  {
   "cell_type": "markdown",
   "metadata": {},
   "source": [
    "__Конвертування строкових даних__ у чисельні здійснюється за допомогою функцій [int](https://pythoner.name/int-function) або [float](https://www.programiz.com/python-programming/methods/built-in/float), але треба мати на увазі що ці функціі викинуть виключення, якщо буде спроба конвертувати не число. Тому перед виконанням конвертування доцільно перевіряти, чи буде воно успішнім. Для цього можна викорастати функцію [isnumeric](https://pythonz.net/references/named/str.isnumeric/)."
   ]
  },
  {
   "cell_type": "code",
   "execution_count": 5,
   "metadata": {
    "code_folding": [],
    "run_control": {
     "marked": false
    }
   },
   "outputs": [
    {
     "name": "stdout",
     "output_type": "stream",
     "text": [
      "<class 'str'>\n",
      "<class 'float'>\n",
      "\n",
      "<class 'str'>\n"
     ]
    }
   ],
   "source": [
    "# \n",
    "number_str = '123.3'\n",
    "print(type(number_str))\n",
    "number_float = float(number_str)\n",
    "print(type(number_float), end='\\n\\n')\n",
    "\n",
    "# але\n",
    "maybe_number_str = '123.З' # після крапки не число!\n",
    "print(type(number_str))\n",
    "# number_float = float(maybe_number_str) # ValueError: could not convert string to float: '123.З'\n",
    "\n",
    "# треба\n",
    "if maybe_number_str.isnumeric():\n",
    "    #  True\n",
    "    number_float = float(maybe_number_str)\n",
    "else:\n",
    "    # False\n",
    "    # код який обробляє цю ситуацію\n",
    "    ..."
   ]
  },
  {
   "cell_type": "markdown",
   "metadata": {},
   "source": [
    "### Приклад розбору рядків, та вилучення показчиків "
   ]
  },
  {
   "cell_type": "code",
   "execution_count": 6,
   "metadata": {
    "run_control": {
     "marked": false
    }
   },
   "outputs": [
    {
     "name": "stdout",
     "output_type": "stream",
     "text": [
      "Вася Пупкін ,  5 курс, ФІТ\n",
      "Петя Сидоров, 1 курс, ФТМ\n",
      " Вова   Хлопов , 3 курс, ФІТ\n"
     ]
    }
   ],
   "source": [
    "# Припустимо, що ми маємо файл, вміст якого відображається на список:\n",
    "file_content = [\n",
    "    'Вася Пупкін ,  5 курс, ФІТ',\n",
    "    'Петя Сидоров, 1 курс, ФТМ',\n",
    "    ' Вова   Хлопов , 3 курс, ФІТ'\n",
    "]\n",
    "_ = [print(x) for x in file_content]"
   ]
  },
  {
   "cell_type": "code",
   "execution_count": 7,
   "metadata": {},
   "outputs": [
    {
     "name": "stdout",
     "output_type": "stream",
     "text": [
      "['Вася', 'Пупкін']\n",
      "['Петя', 'Сидоров']\n",
      "['Вова', 'Хлопов']\n"
     ]
    }
   ],
   "source": [
    "# треба створити новий список, який буде містити окремо ім'я та прізвище\n",
    "\n",
    "# зарезервуєм пустий контейнер\n",
    "name_and_surname = []\n",
    "\n",
    "for line in file_content:\n",
    "    list_from_line = line.split(',')\n",
    "    name, surname = list_from_line[0].split()\n",
    "    name_and_surname += [[name.strip(), surname.strip()]]\n",
    "\n",
    "_ = [print(x) for x in name_and_surname]"
   ]
  },
  {
   "cell_type": "code",
   "execution_count": 8,
   "metadata": {},
   "outputs": [
    {
     "data": {
      "text/plain": [
       "[['Вася', 'Пупкін'], ['Петя', 'Сидоров'], ['Вова', 'Хлопов']]"
      ]
     },
     "execution_count": 8,
     "metadata": {},
     "output_type": "execute_result"
    }
   ],
   "source": [
    "# теж саме в функціональному стилі \n",
    "from functools import reduce\n",
    "reduce(lambda acc, line: acc + [line.split(',')[0].split()], file_content, [])"
   ]
  },
  {
   "cell_type": "markdown",
   "metadata": {},
   "source": [
    "### ЗАВДАННЯ\n",
    "\n",
    "<p style=\"background-color: lightblue; padding:10px\">На основі вхідного файлу <b>aprts_data_raw.csv</b> побудувати вихідний файл <b>aprt_total_area.txt</b> кожний рядок якого є вилучене з 6 показника та приведене до очікуваного формату значення загальної площі квартири.<br><br><i>При неможливості приведення показчика його треба замінити на 0</i></p>"
   ]
  },
  {
   "cell_type": "markdown",
   "metadata": {},
   "source": [
    "_Фрагмент_ результатного файлу:\n",
    "\n",
    "`\n",
    "37.0\n",
    "58.0\n",
    "100.0\n",
    "32.0\n",
    "...\n",
    "`"
   ]
  },
  {
   "cell_type": "code",
   "execution_count": 3,
   "metadata": {},
   "outputs": [
    {
     "name": "stdout",
     "output_type": "stream",
     "text": [
      "['73', '37', '15']\n",
      "['110.27', '58', '-']\n",
      "['100', '56', '18']\n",
      "['58', '32', '8']\n",
      "['79', '36', '12']\n",
      "['138.7', '77.6', '18']\n",
      "['201.4', '115', '25']\n",
      "['87', '43', '21']\n",
      "['40', '10', '19']\n",
      "['51', '29', '8']\n",
      "['48', '20', '17']\n",
      "['85', '40.1', '14.8']\n",
      "['76', '33.4', '15.6']\n",
      "['56', '32.9', '8.2']\n",
      "['38', '16', '12']\n",
      "['70', '44', '8.5']\n",
      "['103', '63', '15']\n",
      "['56.44', '29', '10.24']\n",
      "['69', '42', '7.4']\n",
      "['47.39', '16.21', '17.03']\n",
      "['50', '28', '20']\n",
      "['64', '45', '8']\n",
      "['96', '64', '8.4']\n",
      "['46', '32', '7']\n",
      "['44', '28', '6']\n",
      "['100', '50', '20']\n",
      "['240', '125', '26']\n",
      "['72.1', '35.59', '12.84']\n",
      "['75', '35', '15']\n",
      "['78', '50', '10']\n",
      "['126', '64.6', '20.8']\n",
      "['93', '50', '13']\n",
      "['63', '32', '12']\n",
      "['44', '25', '4']\n",
      "['67.92', '28.54', '17.16']\n",
      "['52', '21', '14']\n",
      "['99', '48.1', '15.3']\n",
      "['96', '50', '17']\n",
      "['65']\n"
     ]
    },
    {
     "ename": "IndexError",
     "evalue": "list index out of range",
     "output_type": "error",
     "traceback": [
      "\u001b[1;31m---------------------------------------------------------------------------\u001b[0m",
      "\u001b[1;31mIndexError\u001b[0m                                Traceback (most recent call last)",
      "Input \u001b[1;32mIn [3]\u001b[0m, in \u001b[0;36m<cell line: 15>\u001b[1;34m()\u001b[0m\n\u001b[0;32m     21\u001b[0m         areas\u001b[38;5;241m.\u001b[39mappend(r) \n\u001b[0;32m     23\u001b[0m \u001b[38;5;28mprint\u001b[39m(areas)    \n\u001b[1;32m---> 25\u001b[0m \u001b[38;5;28;01mif\u001b[39;00m(\u001b[38;5;28mlen\u001b[39m(areas) \u001b[38;5;241m==\u001b[39m \u001b[38;5;241m0\u001b[39m \u001b[38;5;129;01mor\u001b[39;00m \u001b[43mareas\u001b[49m\u001b[43m[\u001b[49m\u001b[38;5;241;43m1\u001b[39;49m\u001b[43m]\u001b[49m \u001b[38;5;241m==\u001b[39m \u001b[38;5;124m\"\u001b[39m\u001b[38;5;124m-\u001b[39m\u001b[38;5;124m\"\u001b[39m):\n\u001b[0;32m     26\u001b[0m     f\u001b[38;5;241m.\u001b[39mwrite(\u001b[38;5;124m\"\u001b[39m\u001b[38;5;124m0\u001b[39m\u001b[38;5;124m\"\u001b[39m \u001b[38;5;241m+\u001b[39m \u001b[38;5;124m\"\u001b[39m\u001b[38;5;130;01m\\n\u001b[39;00m\u001b[38;5;124m\"\u001b[39m)\n\u001b[0;32m     27\u001b[0m \u001b[38;5;28;01melse\u001b[39;00m:\n",
      "\u001b[1;31mIndexError\u001b[0m: list index out of range"
     ]
    }
   ],
   "source": [
    "# Ваш код повинен починатися тут\n",
    "import pandas as pd\n",
    "\n",
    "def isDigit(x):\n",
    "    try:\n",
    "        float(x)\n",
    "        return True\n",
    "    except ValueError:\n",
    "        return False\n",
    "\n",
    "areas = []\n",
    "pd.set_option('display.max_rows', 800)\n",
    "spreadsheet = pd.read_csv('aprts_data_raw (1).csv', header = None)\n",
    "\n",
    "with open('aprt_living_area.txt', 'w') as f:\n",
    "    for row in spreadsheet.iloc[:, 6]:        \n",
    "        line = row.split() \n",
    "        \n",
    "        for r in line:\n",
    "            if(isDigit(r) or r == \"-\"):\n",
    "                areas.append(r) \n",
    "           \n",
    "        print(areas)    \n",
    "    \n",
    "        if(len(areas) == 0 or areas[1] == \"-\"):\n",
    "            f.write(\"0\" + \"\\n\")\n",
    "        else:\n",
    "            f.write(areas[1] + \"\\n\")\n",
    "            areas.clear()"
   ]
  },
  {
   "cell_type": "code",
   "execution_count": null,
   "metadata": {},
   "outputs": [],
   "source": []
  }
 ],
 "metadata": {
  "kernelspec": {
   "display_name": "Python 3 (ipykernel)",
   "language": "python",
   "name": "python3"
  },
  "language_info": {
   "codemirror_mode": {
    "name": "ipython",
    "version": 3
   },
   "file_extension": ".py",
   "mimetype": "text/x-python",
   "name": "python",
   "nbconvert_exporter": "python",
   "pygments_lexer": "ipython3",
   "version": "3.9.13"
  },
  "varInspector": {
   "cols": {
    "lenName": 16,
    "lenType": 16,
    "lenVar": 40
   },
   "kernels_config": {
    "python": {
     "delete_cmd_postfix": "",
     "delete_cmd_prefix": "del ",
     "library": "var_list.py",
     "varRefreshCmd": "print(var_dic_list())"
    },
    "r": {
     "delete_cmd_postfix": ") ",
     "delete_cmd_prefix": "rm(",
     "library": "var_list.r",
     "varRefreshCmd": "cat(var_dic_list()) "
    }
   },
   "types_to_exclude": [
    "module",
    "function",
    "builtin_function_or_method",
    "instance",
    "_Feature"
   ],
   "window_display": false
  }
 },
 "nbformat": 4,
 "nbformat_minor": 4
}
